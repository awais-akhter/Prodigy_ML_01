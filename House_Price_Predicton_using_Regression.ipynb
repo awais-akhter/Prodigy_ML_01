{
  "cells": [
    {
      "cell_type": "markdown",
      "metadata": {
        "id": "view-in-github"
      },
      "source": [
        "# **Prodigy Infotech - Machine Learning Internship**\n",
        "### **TASK 3 - House Price Prediction using LR**"
      ]
    },
    {
      "cell_type": "markdown",
      "source": [
        "\n",
        "### Author : Muhammad Awais Akhter\n",
        "\n",
        "[![alt text](https://logoeps.com/wp-content/uploads/2014/02/25231-github-cat-in-a-circle-icon-vector-icon-vector-eps.png \"Git Hub Link\")](https://github.com/awais-akhter)"
      ],
      "metadata": {
        "id": "cdN8vS_i7jOi"
      }
    },
    {
      "cell_type": "markdown",
      "source": [
        "### Problem Statement: Implement a linear regression model to predict the prices of houses based on their square footage and the number of bedrooms and bathrooms.\n",
        "\n",
        "#### Dataset link :- https://www.kaggle.com/c/house-prices-advanced-regression-techniques/data"
      ],
      "metadata": {
        "id": "XLEBkT2v7vnq"
      }
    },
    {
      "cell_type": "code",
      "execution_count": null,
      "metadata": {
        "cell_id": "0889434d2d6e407fa41221aaffeb5971",
        "deepnote_app_coordinates": {
          "h": 5,
          "w": 12,
          "x": 0,
          "y": 0
        },
        "deepnote_app_is_code_hidden": false,
        "deepnote_cell_type": "code",
        "deepnote_to_be_reexecuted": false,
        "execution_millis": 9,
        "execution_start": 1699018597892,
        "id": "ILhcrX_fgjeL",
        "source_hash": "b7dcc9c8"
      },
      "outputs": [],
      "source": [
        "# Importing Basic Libraries\n",
        "import numpy as np\n",
        "import pandas as pd\n",
        "import matplotlib.pyplot as plt\n",
        "import seaborn as sns"
      ]
    },
    {
      "cell_type": "markdown",
      "metadata": {
        "id": "0r-azK1o6U-_"
      },
      "source": [
        "### Training Data"
      ]
    },
    {
      "cell_type": "code",
      "execution_count": null,
      "metadata": {
        "cell_id": "97a1741e648b418b9c572c12878447d9",
        "colab": {
          "base_uri": "https://localhost:8080/",
          "height": 444
        },
        "deepnote_app_coordinates": {
          "h": 5,
          "w": 12,
          "x": 0,
          "y": 0
        },
        "deepnote_app_is_code_hidden": false,
        "deepnote_app_is_output_hidden": true,
        "deepnote_cell_type": "code",
        "deepnote_to_be_reexecuted": false,
        "execution_millis": 822,
        "execution_start": 1699018597935,
        "id": "inJOANTRgjeP",
        "is_output_hidden": true,
        "outputId": "1a1beeb0-f4a3-4f96-d743-2d8ed9fae064",
        "source_hash": "19bd5417"
      },
      "outputs": [
        {
          "data": {
            "text/html": [
              "<div>\n",
              "<style scoped>\n",
              "    .dataframe tbody tr th:only-of-type {\n",
              "        vertical-align: middle;\n",
              "    }\n",
              "\n",
              "    .dataframe tbody tr th {\n",
              "        vertical-align: top;\n",
              "    }\n",
              "\n",
              "    .dataframe thead th {\n",
              "        text-align: right;\n",
              "    }\n",
              "</style>\n",
              "<table border=\"1\" class=\"dataframe\">\n",
              "  <thead>\n",
              "    <tr style=\"text-align: right;\">\n",
              "      <th></th>\n",
              "      <th>Id</th>\n",
              "      <th>MSSubClass</th>\n",
              "      <th>MSZoning</th>\n",
              "      <th>LotFrontage</th>\n",
              "      <th>LotArea</th>\n",
              "      <th>Street</th>\n",
              "      <th>Alley</th>\n",
              "      <th>LotShape</th>\n",
              "      <th>LandContour</th>\n",
              "      <th>Utilities</th>\n",
              "      <th>...</th>\n",
              "      <th>PoolArea</th>\n",
              "      <th>PoolQC</th>\n",
              "      <th>Fence</th>\n",
              "      <th>MiscFeature</th>\n",
              "      <th>MiscVal</th>\n",
              "      <th>MoSold</th>\n",
              "      <th>YrSold</th>\n",
              "      <th>SaleType</th>\n",
              "      <th>SaleCondition</th>\n",
              "      <th>SalePrice</th>\n",
              "    </tr>\n",
              "  </thead>\n",
              "  <tbody>\n",
              "    <tr>\n",
              "      <th>0</th>\n",
              "      <td>1</td>\n",
              "      <td>60</td>\n",
              "      <td>RL</td>\n",
              "      <td>65.0</td>\n",
              "      <td>8450</td>\n",
              "      <td>Pave</td>\n",
              "      <td>NaN</td>\n",
              "      <td>Reg</td>\n",
              "      <td>Lvl</td>\n",
              "      <td>AllPub</td>\n",
              "      <td>...</td>\n",
              "      <td>0</td>\n",
              "      <td>NaN</td>\n",
              "      <td>NaN</td>\n",
              "      <td>NaN</td>\n",
              "      <td>0</td>\n",
              "      <td>2</td>\n",
              "      <td>2008</td>\n",
              "      <td>WD</td>\n",
              "      <td>Normal</td>\n",
              "      <td>208500</td>\n",
              "    </tr>\n",
              "    <tr>\n",
              "      <th>1</th>\n",
              "      <td>2</td>\n",
              "      <td>20</td>\n",
              "      <td>RL</td>\n",
              "      <td>80.0</td>\n",
              "      <td>9600</td>\n",
              "      <td>Pave</td>\n",
              "      <td>NaN</td>\n",
              "      <td>Reg</td>\n",
              "      <td>Lvl</td>\n",
              "      <td>AllPub</td>\n",
              "      <td>...</td>\n",
              "      <td>0</td>\n",
              "      <td>NaN</td>\n",
              "      <td>NaN</td>\n",
              "      <td>NaN</td>\n",
              "      <td>0</td>\n",
              "      <td>5</td>\n",
              "      <td>2007</td>\n",
              "      <td>WD</td>\n",
              "      <td>Normal</td>\n",
              "      <td>181500</td>\n",
              "    </tr>\n",
              "    <tr>\n",
              "      <th>2</th>\n",
              "      <td>3</td>\n",
              "      <td>60</td>\n",
              "      <td>RL</td>\n",
              "      <td>68.0</td>\n",
              "      <td>11250</td>\n",
              "      <td>Pave</td>\n",
              "      <td>NaN</td>\n",
              "      <td>IR1</td>\n",
              "      <td>Lvl</td>\n",
              "      <td>AllPub</td>\n",
              "      <td>...</td>\n",
              "      <td>0</td>\n",
              "      <td>NaN</td>\n",
              "      <td>NaN</td>\n",
              "      <td>NaN</td>\n",
              "      <td>0</td>\n",
              "      <td>9</td>\n",
              "      <td>2008</td>\n",
              "      <td>WD</td>\n",
              "      <td>Normal</td>\n",
              "      <td>223500</td>\n",
              "    </tr>\n",
              "    <tr>\n",
              "      <th>3</th>\n",
              "      <td>4</td>\n",
              "      <td>70</td>\n",
              "      <td>RL</td>\n",
              "      <td>60.0</td>\n",
              "      <td>9550</td>\n",
              "      <td>Pave</td>\n",
              "      <td>NaN</td>\n",
              "      <td>IR1</td>\n",
              "      <td>Lvl</td>\n",
              "      <td>AllPub</td>\n",
              "      <td>...</td>\n",
              "      <td>0</td>\n",
              "      <td>NaN</td>\n",
              "      <td>NaN</td>\n",
              "      <td>NaN</td>\n",
              "      <td>0</td>\n",
              "      <td>2</td>\n",
              "      <td>2006</td>\n",
              "      <td>WD</td>\n",
              "      <td>Abnorml</td>\n",
              "      <td>140000</td>\n",
              "    </tr>\n",
              "    <tr>\n",
              "      <th>4</th>\n",
              "      <td>5</td>\n",
              "      <td>60</td>\n",
              "      <td>RL</td>\n",
              "      <td>84.0</td>\n",
              "      <td>14260</td>\n",
              "      <td>Pave</td>\n",
              "      <td>NaN</td>\n",
              "      <td>IR1</td>\n",
              "      <td>Lvl</td>\n",
              "      <td>AllPub</td>\n",
              "      <td>...</td>\n",
              "      <td>0</td>\n",
              "      <td>NaN</td>\n",
              "      <td>NaN</td>\n",
              "      <td>NaN</td>\n",
              "      <td>0</td>\n",
              "      <td>12</td>\n",
              "      <td>2008</td>\n",
              "      <td>WD</td>\n",
              "      <td>Normal</td>\n",
              "      <td>250000</td>\n",
              "    </tr>\n",
              "    <tr>\n",
              "      <th>...</th>\n",
              "      <td>...</td>\n",
              "      <td>...</td>\n",
              "      <td>...</td>\n",
              "      <td>...</td>\n",
              "      <td>...</td>\n",
              "      <td>...</td>\n",
              "      <td>...</td>\n",
              "      <td>...</td>\n",
              "      <td>...</td>\n",
              "      <td>...</td>\n",
              "      <td>...</td>\n",
              "      <td>...</td>\n",
              "      <td>...</td>\n",
              "      <td>...</td>\n",
              "      <td>...</td>\n",
              "      <td>...</td>\n",
              "      <td>...</td>\n",
              "      <td>...</td>\n",
              "      <td>...</td>\n",
              "      <td>...</td>\n",
              "      <td>...</td>\n",
              "    </tr>\n",
              "    <tr>\n",
              "      <th>1455</th>\n",
              "      <td>1456</td>\n",
              "      <td>60</td>\n",
              "      <td>RL</td>\n",
              "      <td>62.0</td>\n",
              "      <td>7917</td>\n",
              "      <td>Pave</td>\n",
              "      <td>NaN</td>\n",
              "      <td>Reg</td>\n",
              "      <td>Lvl</td>\n",
              "      <td>AllPub</td>\n",
              "      <td>...</td>\n",
              "      <td>0</td>\n",
              "      <td>NaN</td>\n",
              "      <td>NaN</td>\n",
              "      <td>NaN</td>\n",
              "      <td>0</td>\n",
              "      <td>8</td>\n",
              "      <td>2007</td>\n",
              "      <td>WD</td>\n",
              "      <td>Normal</td>\n",
              "      <td>175000</td>\n",
              "    </tr>\n",
              "    <tr>\n",
              "      <th>1456</th>\n",
              "      <td>1457</td>\n",
              "      <td>20</td>\n",
              "      <td>RL</td>\n",
              "      <td>85.0</td>\n",
              "      <td>13175</td>\n",
              "      <td>Pave</td>\n",
              "      <td>NaN</td>\n",
              "      <td>Reg</td>\n",
              "      <td>Lvl</td>\n",
              "      <td>AllPub</td>\n",
              "      <td>...</td>\n",
              "      <td>0</td>\n",
              "      <td>NaN</td>\n",
              "      <td>MnPrv</td>\n",
              "      <td>NaN</td>\n",
              "      <td>0</td>\n",
              "      <td>2</td>\n",
              "      <td>2010</td>\n",
              "      <td>WD</td>\n",
              "      <td>Normal</td>\n",
              "      <td>210000</td>\n",
              "    </tr>\n",
              "    <tr>\n",
              "      <th>1457</th>\n",
              "      <td>1458</td>\n",
              "      <td>70</td>\n",
              "      <td>RL</td>\n",
              "      <td>66.0</td>\n",
              "      <td>9042</td>\n",
              "      <td>Pave</td>\n",
              "      <td>NaN</td>\n",
              "      <td>Reg</td>\n",
              "      <td>Lvl</td>\n",
              "      <td>AllPub</td>\n",
              "      <td>...</td>\n",
              "      <td>0</td>\n",
              "      <td>NaN</td>\n",
              "      <td>GdPrv</td>\n",
              "      <td>Shed</td>\n",
              "      <td>2500</td>\n",
              "      <td>5</td>\n",
              "      <td>2010</td>\n",
              "      <td>WD</td>\n",
              "      <td>Normal</td>\n",
              "      <td>266500</td>\n",
              "    </tr>\n",
              "    <tr>\n",
              "      <th>1458</th>\n",
              "      <td>1459</td>\n",
              "      <td>20</td>\n",
              "      <td>RL</td>\n",
              "      <td>68.0</td>\n",
              "      <td>9717</td>\n",
              "      <td>Pave</td>\n",
              "      <td>NaN</td>\n",
              "      <td>Reg</td>\n",
              "      <td>Lvl</td>\n",
              "      <td>AllPub</td>\n",
              "      <td>...</td>\n",
              "      <td>0</td>\n",
              "      <td>NaN</td>\n",
              "      <td>NaN</td>\n",
              "      <td>NaN</td>\n",
              "      <td>0</td>\n",
              "      <td>4</td>\n",
              "      <td>2010</td>\n",
              "      <td>WD</td>\n",
              "      <td>Normal</td>\n",
              "      <td>142125</td>\n",
              "    </tr>\n",
              "    <tr>\n",
              "      <th>1459</th>\n",
              "      <td>1460</td>\n",
              "      <td>20</td>\n",
              "      <td>RL</td>\n",
              "      <td>75.0</td>\n",
              "      <td>9937</td>\n",
              "      <td>Pave</td>\n",
              "      <td>NaN</td>\n",
              "      <td>Reg</td>\n",
              "      <td>Lvl</td>\n",
              "      <td>AllPub</td>\n",
              "      <td>...</td>\n",
              "      <td>0</td>\n",
              "      <td>NaN</td>\n",
              "      <td>NaN</td>\n",
              "      <td>NaN</td>\n",
              "      <td>0</td>\n",
              "      <td>6</td>\n",
              "      <td>2008</td>\n",
              "      <td>WD</td>\n",
              "      <td>Normal</td>\n",
              "      <td>147500</td>\n",
              "    </tr>\n",
              "  </tbody>\n",
              "</table>\n",
              "<p>1460 rows × 81 columns</p>\n",
              "</div>"
            ],
            "text/plain": [
              "        Id  MSSubClass MSZoning  LotFrontage  LotArea Street Alley LotShape  \\\n",
              "0        1          60       RL         65.0     8450   Pave   NaN      Reg   \n",
              "1        2          20       RL         80.0     9600   Pave   NaN      Reg   \n",
              "2        3          60       RL         68.0    11250   Pave   NaN      IR1   \n",
              "3        4          70       RL         60.0     9550   Pave   NaN      IR1   \n",
              "4        5          60       RL         84.0    14260   Pave   NaN      IR1   \n",
              "...    ...         ...      ...          ...      ...    ...   ...      ...   \n",
              "1455  1456          60       RL         62.0     7917   Pave   NaN      Reg   \n",
              "1456  1457          20       RL         85.0    13175   Pave   NaN      Reg   \n",
              "1457  1458          70       RL         66.0     9042   Pave   NaN      Reg   \n",
              "1458  1459          20       RL         68.0     9717   Pave   NaN      Reg   \n",
              "1459  1460          20       RL         75.0     9937   Pave   NaN      Reg   \n",
              "\n",
              "     LandContour Utilities  ... PoolArea PoolQC  Fence MiscFeature MiscVal  \\\n",
              "0            Lvl    AllPub  ...        0    NaN    NaN         NaN       0   \n",
              "1            Lvl    AllPub  ...        0    NaN    NaN         NaN       0   \n",
              "2            Lvl    AllPub  ...        0    NaN    NaN         NaN       0   \n",
              "3            Lvl    AllPub  ...        0    NaN    NaN         NaN       0   \n",
              "4            Lvl    AllPub  ...        0    NaN    NaN         NaN       0   \n",
              "...          ...       ...  ...      ...    ...    ...         ...     ...   \n",
              "1455         Lvl    AllPub  ...        0    NaN    NaN         NaN       0   \n",
              "1456         Lvl    AllPub  ...        0    NaN  MnPrv         NaN       0   \n",
              "1457         Lvl    AllPub  ...        0    NaN  GdPrv        Shed    2500   \n",
              "1458         Lvl    AllPub  ...        0    NaN    NaN         NaN       0   \n",
              "1459         Lvl    AllPub  ...        0    NaN    NaN         NaN       0   \n",
              "\n",
              "     MoSold YrSold  SaleType  SaleCondition  SalePrice  \n",
              "0         2   2008        WD         Normal     208500  \n",
              "1         5   2007        WD         Normal     181500  \n",
              "2         9   2008        WD         Normal     223500  \n",
              "3         2   2006        WD        Abnorml     140000  \n",
              "4        12   2008        WD         Normal     250000  \n",
              "...     ...    ...       ...            ...        ...  \n",
              "1455      8   2007        WD         Normal     175000  \n",
              "1456      2   2010        WD         Normal     210000  \n",
              "1457      5   2010        WD         Normal     266500  \n",
              "1458      4   2010        WD         Normal     142125  \n",
              "1459      6   2008        WD         Normal     147500  \n",
              "\n",
              "[1460 rows x 81 columns]"
            ]
          },
          "execution_count": 3,
          "metadata": {},
          "output_type": "execute_result"
        }
      ],
      "source": [
        "house_df = pd.read_csv(\"PRODIGY_ML_01/train.csv\")\n",
        "house_df"
      ]
    },
    {
      "cell_type": "markdown",
      "metadata": {
        "id": "PTlCCe_f6ZT-"
      },
      "source": [
        "### Testing Data"
      ]
    },
    {
      "cell_type": "code",
      "execution_count": null,
      "metadata": {
        "cell_id": "7790c841ef8f484db5231cfa3b31ed81",
        "colab": {
          "base_uri": "https://localhost:8080/",
          "height": 444
        },
        "deepnote_app_coordinates": {
          "h": 5,
          "w": 12,
          "x": 0,
          "y": 0
        },
        "deepnote_app_is_code_hidden": false,
        "deepnote_app_is_output_hidden": true,
        "deepnote_cell_type": "code",
        "deepnote_to_be_reexecuted": false,
        "execution_millis": 838,
        "execution_start": 1699018598740,
        "id": "0M55hIMKgjeQ",
        "is_output_hidden": false,
        "outputId": "b07e2d44-7ca4-4102-903f-3028258d7c92",
        "source_hash": "f397fab4"
      },
      "outputs": [
        {
          "data": {
            "text/html": [
              "<div>\n",
              "<style scoped>\n",
              "    .dataframe tbody tr th:only-of-type {\n",
              "        vertical-align: middle;\n",
              "    }\n",
              "\n",
              "    .dataframe tbody tr th {\n",
              "        vertical-align: top;\n",
              "    }\n",
              "\n",
              "    .dataframe thead th {\n",
              "        text-align: right;\n",
              "    }\n",
              "</style>\n",
              "<table border=\"1\" class=\"dataframe\">\n",
              "  <thead>\n",
              "    <tr style=\"text-align: right;\">\n",
              "      <th></th>\n",
              "      <th>Id</th>\n",
              "      <th>MSSubClass</th>\n",
              "      <th>MSZoning</th>\n",
              "      <th>LotFrontage</th>\n",
              "      <th>LotArea</th>\n",
              "      <th>Street</th>\n",
              "      <th>Alley</th>\n",
              "      <th>LotShape</th>\n",
              "      <th>LandContour</th>\n",
              "      <th>Utilities</th>\n",
              "      <th>...</th>\n",
              "      <th>ScreenPorch</th>\n",
              "      <th>PoolArea</th>\n",
              "      <th>PoolQC</th>\n",
              "      <th>Fence</th>\n",
              "      <th>MiscFeature</th>\n",
              "      <th>MiscVal</th>\n",
              "      <th>MoSold</th>\n",
              "      <th>YrSold</th>\n",
              "      <th>SaleType</th>\n",
              "      <th>SaleCondition</th>\n",
              "    </tr>\n",
              "  </thead>\n",
              "  <tbody>\n",
              "    <tr>\n",
              "      <th>0</th>\n",
              "      <td>1461</td>\n",
              "      <td>20</td>\n",
              "      <td>RH</td>\n",
              "      <td>80.0</td>\n",
              "      <td>11622</td>\n",
              "      <td>Pave</td>\n",
              "      <td>NaN</td>\n",
              "      <td>Reg</td>\n",
              "      <td>Lvl</td>\n",
              "      <td>AllPub</td>\n",
              "      <td>...</td>\n",
              "      <td>120</td>\n",
              "      <td>0</td>\n",
              "      <td>NaN</td>\n",
              "      <td>MnPrv</td>\n",
              "      <td>NaN</td>\n",
              "      <td>0</td>\n",
              "      <td>6</td>\n",
              "      <td>2010</td>\n",
              "      <td>WD</td>\n",
              "      <td>Normal</td>\n",
              "    </tr>\n",
              "    <tr>\n",
              "      <th>1</th>\n",
              "      <td>1462</td>\n",
              "      <td>20</td>\n",
              "      <td>RL</td>\n",
              "      <td>81.0</td>\n",
              "      <td>14267</td>\n",
              "      <td>Pave</td>\n",
              "      <td>NaN</td>\n",
              "      <td>IR1</td>\n",
              "      <td>Lvl</td>\n",
              "      <td>AllPub</td>\n",
              "      <td>...</td>\n",
              "      <td>0</td>\n",
              "      <td>0</td>\n",
              "      <td>NaN</td>\n",
              "      <td>NaN</td>\n",
              "      <td>Gar2</td>\n",
              "      <td>12500</td>\n",
              "      <td>6</td>\n",
              "      <td>2010</td>\n",
              "      <td>WD</td>\n",
              "      <td>Normal</td>\n",
              "    </tr>\n",
              "    <tr>\n",
              "      <th>2</th>\n",
              "      <td>1463</td>\n",
              "      <td>60</td>\n",
              "      <td>RL</td>\n",
              "      <td>74.0</td>\n",
              "      <td>13830</td>\n",
              "      <td>Pave</td>\n",
              "      <td>NaN</td>\n",
              "      <td>IR1</td>\n",
              "      <td>Lvl</td>\n",
              "      <td>AllPub</td>\n",
              "      <td>...</td>\n",
              "      <td>0</td>\n",
              "      <td>0</td>\n",
              "      <td>NaN</td>\n",
              "      <td>MnPrv</td>\n",
              "      <td>NaN</td>\n",
              "      <td>0</td>\n",
              "      <td>3</td>\n",
              "      <td>2010</td>\n",
              "      <td>WD</td>\n",
              "      <td>Normal</td>\n",
              "    </tr>\n",
              "    <tr>\n",
              "      <th>3</th>\n",
              "      <td>1464</td>\n",
              "      <td>60</td>\n",
              "      <td>RL</td>\n",
              "      <td>78.0</td>\n",
              "      <td>9978</td>\n",
              "      <td>Pave</td>\n",
              "      <td>NaN</td>\n",
              "      <td>IR1</td>\n",
              "      <td>Lvl</td>\n",
              "      <td>AllPub</td>\n",
              "      <td>...</td>\n",
              "      <td>0</td>\n",
              "      <td>0</td>\n",
              "      <td>NaN</td>\n",
              "      <td>NaN</td>\n",
              "      <td>NaN</td>\n",
              "      <td>0</td>\n",
              "      <td>6</td>\n",
              "      <td>2010</td>\n",
              "      <td>WD</td>\n",
              "      <td>Normal</td>\n",
              "    </tr>\n",
              "    <tr>\n",
              "      <th>4</th>\n",
              "      <td>1465</td>\n",
              "      <td>120</td>\n",
              "      <td>RL</td>\n",
              "      <td>43.0</td>\n",
              "      <td>5005</td>\n",
              "      <td>Pave</td>\n",
              "      <td>NaN</td>\n",
              "      <td>IR1</td>\n",
              "      <td>HLS</td>\n",
              "      <td>AllPub</td>\n",
              "      <td>...</td>\n",
              "      <td>144</td>\n",
              "      <td>0</td>\n",
              "      <td>NaN</td>\n",
              "      <td>NaN</td>\n",
              "      <td>NaN</td>\n",
              "      <td>0</td>\n",
              "      <td>1</td>\n",
              "      <td>2010</td>\n",
              "      <td>WD</td>\n",
              "      <td>Normal</td>\n",
              "    </tr>\n",
              "    <tr>\n",
              "      <th>...</th>\n",
              "      <td>...</td>\n",
              "      <td>...</td>\n",
              "      <td>...</td>\n",
              "      <td>...</td>\n",
              "      <td>...</td>\n",
              "      <td>...</td>\n",
              "      <td>...</td>\n",
              "      <td>...</td>\n",
              "      <td>...</td>\n",
              "      <td>...</td>\n",
              "      <td>...</td>\n",
              "      <td>...</td>\n",
              "      <td>...</td>\n",
              "      <td>...</td>\n",
              "      <td>...</td>\n",
              "      <td>...</td>\n",
              "      <td>...</td>\n",
              "      <td>...</td>\n",
              "      <td>...</td>\n",
              "      <td>...</td>\n",
              "      <td>...</td>\n",
              "    </tr>\n",
              "    <tr>\n",
              "      <th>1454</th>\n",
              "      <td>2915</td>\n",
              "      <td>160</td>\n",
              "      <td>RM</td>\n",
              "      <td>21.0</td>\n",
              "      <td>1936</td>\n",
              "      <td>Pave</td>\n",
              "      <td>NaN</td>\n",
              "      <td>Reg</td>\n",
              "      <td>Lvl</td>\n",
              "      <td>AllPub</td>\n",
              "      <td>...</td>\n",
              "      <td>0</td>\n",
              "      <td>0</td>\n",
              "      <td>NaN</td>\n",
              "      <td>NaN</td>\n",
              "      <td>NaN</td>\n",
              "      <td>0</td>\n",
              "      <td>6</td>\n",
              "      <td>2006</td>\n",
              "      <td>WD</td>\n",
              "      <td>Normal</td>\n",
              "    </tr>\n",
              "    <tr>\n",
              "      <th>1455</th>\n",
              "      <td>2916</td>\n",
              "      <td>160</td>\n",
              "      <td>RM</td>\n",
              "      <td>21.0</td>\n",
              "      <td>1894</td>\n",
              "      <td>Pave</td>\n",
              "      <td>NaN</td>\n",
              "      <td>Reg</td>\n",
              "      <td>Lvl</td>\n",
              "      <td>AllPub</td>\n",
              "      <td>...</td>\n",
              "      <td>0</td>\n",
              "      <td>0</td>\n",
              "      <td>NaN</td>\n",
              "      <td>NaN</td>\n",
              "      <td>NaN</td>\n",
              "      <td>0</td>\n",
              "      <td>4</td>\n",
              "      <td>2006</td>\n",
              "      <td>WD</td>\n",
              "      <td>Abnorml</td>\n",
              "    </tr>\n",
              "    <tr>\n",
              "      <th>1456</th>\n",
              "      <td>2917</td>\n",
              "      <td>20</td>\n",
              "      <td>RL</td>\n",
              "      <td>160.0</td>\n",
              "      <td>20000</td>\n",
              "      <td>Pave</td>\n",
              "      <td>NaN</td>\n",
              "      <td>Reg</td>\n",
              "      <td>Lvl</td>\n",
              "      <td>AllPub</td>\n",
              "      <td>...</td>\n",
              "      <td>0</td>\n",
              "      <td>0</td>\n",
              "      <td>NaN</td>\n",
              "      <td>NaN</td>\n",
              "      <td>NaN</td>\n",
              "      <td>0</td>\n",
              "      <td>9</td>\n",
              "      <td>2006</td>\n",
              "      <td>WD</td>\n",
              "      <td>Abnorml</td>\n",
              "    </tr>\n",
              "    <tr>\n",
              "      <th>1457</th>\n",
              "      <td>2918</td>\n",
              "      <td>85</td>\n",
              "      <td>RL</td>\n",
              "      <td>62.0</td>\n",
              "      <td>10441</td>\n",
              "      <td>Pave</td>\n",
              "      <td>NaN</td>\n",
              "      <td>Reg</td>\n",
              "      <td>Lvl</td>\n",
              "      <td>AllPub</td>\n",
              "      <td>...</td>\n",
              "      <td>0</td>\n",
              "      <td>0</td>\n",
              "      <td>NaN</td>\n",
              "      <td>MnPrv</td>\n",
              "      <td>Shed</td>\n",
              "      <td>700</td>\n",
              "      <td>7</td>\n",
              "      <td>2006</td>\n",
              "      <td>WD</td>\n",
              "      <td>Normal</td>\n",
              "    </tr>\n",
              "    <tr>\n",
              "      <th>1458</th>\n",
              "      <td>2919</td>\n",
              "      <td>60</td>\n",
              "      <td>RL</td>\n",
              "      <td>74.0</td>\n",
              "      <td>9627</td>\n",
              "      <td>Pave</td>\n",
              "      <td>NaN</td>\n",
              "      <td>Reg</td>\n",
              "      <td>Lvl</td>\n",
              "      <td>AllPub</td>\n",
              "      <td>...</td>\n",
              "      <td>0</td>\n",
              "      <td>0</td>\n",
              "      <td>NaN</td>\n",
              "      <td>NaN</td>\n",
              "      <td>NaN</td>\n",
              "      <td>0</td>\n",
              "      <td>11</td>\n",
              "      <td>2006</td>\n",
              "      <td>WD</td>\n",
              "      <td>Normal</td>\n",
              "    </tr>\n",
              "  </tbody>\n",
              "</table>\n",
              "<p>1459 rows × 80 columns</p>\n",
              "</div>"
            ],
            "text/plain": [
              "        Id  MSSubClass MSZoning  LotFrontage  LotArea Street Alley LotShape  \\\n",
              "0     1461          20       RH         80.0    11622   Pave   NaN      Reg   \n",
              "1     1462          20       RL         81.0    14267   Pave   NaN      IR1   \n",
              "2     1463          60       RL         74.0    13830   Pave   NaN      IR1   \n",
              "3     1464          60       RL         78.0     9978   Pave   NaN      IR1   \n",
              "4     1465         120       RL         43.0     5005   Pave   NaN      IR1   \n",
              "...    ...         ...      ...          ...      ...    ...   ...      ...   \n",
              "1454  2915         160       RM         21.0     1936   Pave   NaN      Reg   \n",
              "1455  2916         160       RM         21.0     1894   Pave   NaN      Reg   \n",
              "1456  2917          20       RL        160.0    20000   Pave   NaN      Reg   \n",
              "1457  2918          85       RL         62.0    10441   Pave   NaN      Reg   \n",
              "1458  2919          60       RL         74.0     9627   Pave   NaN      Reg   \n",
              "\n",
              "     LandContour Utilities  ... ScreenPorch PoolArea PoolQC  Fence  \\\n",
              "0            Lvl    AllPub  ...         120        0    NaN  MnPrv   \n",
              "1            Lvl    AllPub  ...           0        0    NaN    NaN   \n",
              "2            Lvl    AllPub  ...           0        0    NaN  MnPrv   \n",
              "3            Lvl    AllPub  ...           0        0    NaN    NaN   \n",
              "4            HLS    AllPub  ...         144        0    NaN    NaN   \n",
              "...          ...       ...  ...         ...      ...    ...    ...   \n",
              "1454         Lvl    AllPub  ...           0        0    NaN    NaN   \n",
              "1455         Lvl    AllPub  ...           0        0    NaN    NaN   \n",
              "1456         Lvl    AllPub  ...           0        0    NaN    NaN   \n",
              "1457         Lvl    AllPub  ...           0        0    NaN  MnPrv   \n",
              "1458         Lvl    AllPub  ...           0        0    NaN    NaN   \n",
              "\n",
              "     MiscFeature MiscVal MoSold  YrSold  SaleType  SaleCondition  \n",
              "0            NaN       0      6    2010        WD         Normal  \n",
              "1           Gar2   12500      6    2010        WD         Normal  \n",
              "2            NaN       0      3    2010        WD         Normal  \n",
              "3            NaN       0      6    2010        WD         Normal  \n",
              "4            NaN       0      1    2010        WD         Normal  \n",
              "...          ...     ...    ...     ...       ...            ...  \n",
              "1454         NaN       0      6    2006        WD         Normal  \n",
              "1455         NaN       0      4    2006        WD        Abnorml  \n",
              "1456         NaN       0      9    2006        WD        Abnorml  \n",
              "1457        Shed     700      7    2006        WD         Normal  \n",
              "1458         NaN       0     11    2006        WD         Normal  \n",
              "\n",
              "[1459 rows x 80 columns]"
            ]
          },
          "execution_count": 3,
          "metadata": {},
          "output_type": "execute_result"
        }
      ],
      "source": [
        "test_data = pd.read_csv(\"PRODIGY_ML_01/test.csv\")\n",
        "test_data"
      ]
    },
    {
      "cell_type": "markdown",
      "metadata": {
        "id": "nMMEABBU6b48"
      },
      "source": [
        "### Description of the dataset"
      ]
    },
    {
      "cell_type": "code",
      "execution_count": null,
      "metadata": {
        "cell_id": "432de54bd26a4ce3a368b056c3e3944d",
        "colab": {
          "base_uri": "https://localhost:8080/",
          "height": 350
        },
        "deepnote_app_coordinates": {
          "h": 5,
          "w": 12,
          "x": 0,
          "y": 0
        },
        "deepnote_cell_type": "code",
        "deepnote_to_be_reexecuted": false,
        "execution_millis": 307,
        "execution_start": 1699018599600,
        "id": "hmPU4GNigjeQ",
        "outputId": "4a73cdd7-db93-4b3d-c2bf-1ba75592b5ee",
        "source_hash": "d353e76c"
      },
      "outputs": [
        {
          "data": {
            "text/html": [
              "<div>\n",
              "<style scoped>\n",
              "    .dataframe tbody tr th:only-of-type {\n",
              "        vertical-align: middle;\n",
              "    }\n",
              "\n",
              "    .dataframe tbody tr th {\n",
              "        vertical-align: top;\n",
              "    }\n",
              "\n",
              "    .dataframe thead th {\n",
              "        text-align: right;\n",
              "    }\n",
              "</style>\n",
              "<table border=\"1\" class=\"dataframe\">\n",
              "  <thead>\n",
              "    <tr style=\"text-align: right;\">\n",
              "      <th></th>\n",
              "      <th>Id</th>\n",
              "      <th>MSSubClass</th>\n",
              "      <th>LotFrontage</th>\n",
              "      <th>LotArea</th>\n",
              "      <th>OverallQual</th>\n",
              "      <th>OverallCond</th>\n",
              "      <th>YearBuilt</th>\n",
              "      <th>YearRemodAdd</th>\n",
              "      <th>MasVnrArea</th>\n",
              "      <th>BsmtFinSF1</th>\n",
              "      <th>...</th>\n",
              "      <th>WoodDeckSF</th>\n",
              "      <th>OpenPorchSF</th>\n",
              "      <th>EnclosedPorch</th>\n",
              "      <th>3SsnPorch</th>\n",
              "      <th>ScreenPorch</th>\n",
              "      <th>PoolArea</th>\n",
              "      <th>MiscVal</th>\n",
              "      <th>MoSold</th>\n",
              "      <th>YrSold</th>\n",
              "      <th>SalePrice</th>\n",
              "    </tr>\n",
              "  </thead>\n",
              "  <tbody>\n",
              "    <tr>\n",
              "      <th>count</th>\n",
              "      <td>1460.000000</td>\n",
              "      <td>1460.000000</td>\n",
              "      <td>1201.000000</td>\n",
              "      <td>1460.000000</td>\n",
              "      <td>1460.000000</td>\n",
              "      <td>1460.000000</td>\n",
              "      <td>1460.000000</td>\n",
              "      <td>1460.000000</td>\n",
              "      <td>1452.000000</td>\n",
              "      <td>1460.000000</td>\n",
              "      <td>...</td>\n",
              "      <td>1460.000000</td>\n",
              "      <td>1460.000000</td>\n",
              "      <td>1460.000000</td>\n",
              "      <td>1460.000000</td>\n",
              "      <td>1460.000000</td>\n",
              "      <td>1460.000000</td>\n",
              "      <td>1460.000000</td>\n",
              "      <td>1460.000000</td>\n",
              "      <td>1460.000000</td>\n",
              "      <td>1460.000000</td>\n",
              "    </tr>\n",
              "    <tr>\n",
              "      <th>mean</th>\n",
              "      <td>730.500000</td>\n",
              "      <td>56.897260</td>\n",
              "      <td>70.049958</td>\n",
              "      <td>10516.828082</td>\n",
              "      <td>6.099315</td>\n",
              "      <td>5.575342</td>\n",
              "      <td>1971.267808</td>\n",
              "      <td>1984.865753</td>\n",
              "      <td>103.685262</td>\n",
              "      <td>443.639726</td>\n",
              "      <td>...</td>\n",
              "      <td>94.244521</td>\n",
              "      <td>46.660274</td>\n",
              "      <td>21.954110</td>\n",
              "      <td>3.409589</td>\n",
              "      <td>15.060959</td>\n",
              "      <td>2.758904</td>\n",
              "      <td>43.489041</td>\n",
              "      <td>6.321918</td>\n",
              "      <td>2007.815753</td>\n",
              "      <td>180921.195890</td>\n",
              "    </tr>\n",
              "    <tr>\n",
              "      <th>std</th>\n",
              "      <td>421.610009</td>\n",
              "      <td>42.300571</td>\n",
              "      <td>24.284752</td>\n",
              "      <td>9981.264932</td>\n",
              "      <td>1.382997</td>\n",
              "      <td>1.112799</td>\n",
              "      <td>30.202904</td>\n",
              "      <td>20.645407</td>\n",
              "      <td>181.066207</td>\n",
              "      <td>456.098091</td>\n",
              "      <td>...</td>\n",
              "      <td>125.338794</td>\n",
              "      <td>66.256028</td>\n",
              "      <td>61.119149</td>\n",
              "      <td>29.317331</td>\n",
              "      <td>55.757415</td>\n",
              "      <td>40.177307</td>\n",
              "      <td>496.123024</td>\n",
              "      <td>2.703626</td>\n",
              "      <td>1.328095</td>\n",
              "      <td>79442.502883</td>\n",
              "    </tr>\n",
              "    <tr>\n",
              "      <th>min</th>\n",
              "      <td>1.000000</td>\n",
              "      <td>20.000000</td>\n",
              "      <td>21.000000</td>\n",
              "      <td>1300.000000</td>\n",
              "      <td>1.000000</td>\n",
              "      <td>1.000000</td>\n",
              "      <td>1872.000000</td>\n",
              "      <td>1950.000000</td>\n",
              "      <td>0.000000</td>\n",
              "      <td>0.000000</td>\n",
              "      <td>...</td>\n",
              "      <td>0.000000</td>\n",
              "      <td>0.000000</td>\n",
              "      <td>0.000000</td>\n",
              "      <td>0.000000</td>\n",
              "      <td>0.000000</td>\n",
              "      <td>0.000000</td>\n",
              "      <td>0.000000</td>\n",
              "      <td>1.000000</td>\n",
              "      <td>2006.000000</td>\n",
              "      <td>34900.000000</td>\n",
              "    </tr>\n",
              "    <tr>\n",
              "      <th>25%</th>\n",
              "      <td>365.750000</td>\n",
              "      <td>20.000000</td>\n",
              "      <td>59.000000</td>\n",
              "      <td>7553.500000</td>\n",
              "      <td>5.000000</td>\n",
              "      <td>5.000000</td>\n",
              "      <td>1954.000000</td>\n",
              "      <td>1967.000000</td>\n",
              "      <td>0.000000</td>\n",
              "      <td>0.000000</td>\n",
              "      <td>...</td>\n",
              "      <td>0.000000</td>\n",
              "      <td>0.000000</td>\n",
              "      <td>0.000000</td>\n",
              "      <td>0.000000</td>\n",
              "      <td>0.000000</td>\n",
              "      <td>0.000000</td>\n",
              "      <td>0.000000</td>\n",
              "      <td>5.000000</td>\n",
              "      <td>2007.000000</td>\n",
              "      <td>129975.000000</td>\n",
              "    </tr>\n",
              "    <tr>\n",
              "      <th>50%</th>\n",
              "      <td>730.500000</td>\n",
              "      <td>50.000000</td>\n",
              "      <td>69.000000</td>\n",
              "      <td>9478.500000</td>\n",
              "      <td>6.000000</td>\n",
              "      <td>5.000000</td>\n",
              "      <td>1973.000000</td>\n",
              "      <td>1994.000000</td>\n",
              "      <td>0.000000</td>\n",
              "      <td>383.500000</td>\n",
              "      <td>...</td>\n",
              "      <td>0.000000</td>\n",
              "      <td>25.000000</td>\n",
              "      <td>0.000000</td>\n",
              "      <td>0.000000</td>\n",
              "      <td>0.000000</td>\n",
              "      <td>0.000000</td>\n",
              "      <td>0.000000</td>\n",
              "      <td>6.000000</td>\n",
              "      <td>2008.000000</td>\n",
              "      <td>163000.000000</td>\n",
              "    </tr>\n",
              "    <tr>\n",
              "      <th>75%</th>\n",
              "      <td>1095.250000</td>\n",
              "      <td>70.000000</td>\n",
              "      <td>80.000000</td>\n",
              "      <td>11601.500000</td>\n",
              "      <td>7.000000</td>\n",
              "      <td>6.000000</td>\n",
              "      <td>2000.000000</td>\n",
              "      <td>2004.000000</td>\n",
              "      <td>166.000000</td>\n",
              "      <td>712.250000</td>\n",
              "      <td>...</td>\n",
              "      <td>168.000000</td>\n",
              "      <td>68.000000</td>\n",
              "      <td>0.000000</td>\n",
              "      <td>0.000000</td>\n",
              "      <td>0.000000</td>\n",
              "      <td>0.000000</td>\n",
              "      <td>0.000000</td>\n",
              "      <td>8.000000</td>\n",
              "      <td>2009.000000</td>\n",
              "      <td>214000.000000</td>\n",
              "    </tr>\n",
              "    <tr>\n",
              "      <th>max</th>\n",
              "      <td>1460.000000</td>\n",
              "      <td>190.000000</td>\n",
              "      <td>313.000000</td>\n",
              "      <td>215245.000000</td>\n",
              "      <td>10.000000</td>\n",
              "      <td>9.000000</td>\n",
              "      <td>2010.000000</td>\n",
              "      <td>2010.000000</td>\n",
              "      <td>1600.000000</td>\n",
              "      <td>5644.000000</td>\n",
              "      <td>...</td>\n",
              "      <td>857.000000</td>\n",
              "      <td>547.000000</td>\n",
              "      <td>552.000000</td>\n",
              "      <td>508.000000</td>\n",
              "      <td>480.000000</td>\n",
              "      <td>738.000000</td>\n",
              "      <td>15500.000000</td>\n",
              "      <td>12.000000</td>\n",
              "      <td>2010.000000</td>\n",
              "      <td>755000.000000</td>\n",
              "    </tr>\n",
              "  </tbody>\n",
              "</table>\n",
              "<p>8 rows × 38 columns</p>\n",
              "</div>"
            ],
            "text/plain": [
              "                Id   MSSubClass  LotFrontage        LotArea  OverallQual  \\\n",
              "count  1460.000000  1460.000000  1201.000000    1460.000000  1460.000000   \n",
              "mean    730.500000    56.897260    70.049958   10516.828082     6.099315   \n",
              "std     421.610009    42.300571    24.284752    9981.264932     1.382997   \n",
              "min       1.000000    20.000000    21.000000    1300.000000     1.000000   \n",
              "25%     365.750000    20.000000    59.000000    7553.500000     5.000000   \n",
              "50%     730.500000    50.000000    69.000000    9478.500000     6.000000   \n",
              "75%    1095.250000    70.000000    80.000000   11601.500000     7.000000   \n",
              "max    1460.000000   190.000000   313.000000  215245.000000    10.000000   \n",
              "\n",
              "       OverallCond    YearBuilt  YearRemodAdd   MasVnrArea   BsmtFinSF1  ...  \\\n",
              "count  1460.000000  1460.000000   1460.000000  1452.000000  1460.000000  ...   \n",
              "mean      5.575342  1971.267808   1984.865753   103.685262   443.639726  ...   \n",
              "std       1.112799    30.202904     20.645407   181.066207   456.098091  ...   \n",
              "min       1.000000  1872.000000   1950.000000     0.000000     0.000000  ...   \n",
              "25%       5.000000  1954.000000   1967.000000     0.000000     0.000000  ...   \n",
              "50%       5.000000  1973.000000   1994.000000     0.000000   383.500000  ...   \n",
              "75%       6.000000  2000.000000   2004.000000   166.000000   712.250000  ...   \n",
              "max       9.000000  2010.000000   2010.000000  1600.000000  5644.000000  ...   \n",
              "\n",
              "        WoodDeckSF  OpenPorchSF  EnclosedPorch    3SsnPorch  ScreenPorch  \\\n",
              "count  1460.000000  1460.000000    1460.000000  1460.000000  1460.000000   \n",
              "mean     94.244521    46.660274      21.954110     3.409589    15.060959   \n",
              "std     125.338794    66.256028      61.119149    29.317331    55.757415   \n",
              "min       0.000000     0.000000       0.000000     0.000000     0.000000   \n",
              "25%       0.000000     0.000000       0.000000     0.000000     0.000000   \n",
              "50%       0.000000    25.000000       0.000000     0.000000     0.000000   \n",
              "75%     168.000000    68.000000       0.000000     0.000000     0.000000   \n",
              "max     857.000000   547.000000     552.000000   508.000000   480.000000   \n",
              "\n",
              "          PoolArea       MiscVal       MoSold       YrSold      SalePrice  \n",
              "count  1460.000000   1460.000000  1460.000000  1460.000000    1460.000000  \n",
              "mean      2.758904     43.489041     6.321918  2007.815753  180921.195890  \n",
              "std      40.177307    496.123024     2.703626     1.328095   79442.502883  \n",
              "min       0.000000      0.000000     1.000000  2006.000000   34900.000000  \n",
              "25%       0.000000      0.000000     5.000000  2007.000000  129975.000000  \n",
              "50%       0.000000      0.000000     6.000000  2008.000000  163000.000000  \n",
              "75%       0.000000      0.000000     8.000000  2009.000000  214000.000000  \n",
              "max     738.000000  15500.000000    12.000000  2010.000000  755000.000000  \n",
              "\n",
              "[8 rows x 38 columns]"
            ]
          },
          "execution_count": 4,
          "metadata": {},
          "output_type": "execute_result"
        }
      ],
      "source": [
        "house_df.describe()"
      ]
    },
    {
      "cell_type": "code",
      "execution_count": null,
      "metadata": {
        "cell_id": "6712881203814b0db3bf0a9ab9e3c7ef",
        "colab": {
          "base_uri": "https://localhost:8080/"
        },
        "deepnote_app_coordinates": {
          "h": 5,
          "w": 12,
          "x": 0,
          "y": 0
        },
        "deepnote_app_is_code_hidden": false,
        "deepnote_cell_type": "code",
        "deepnote_to_be_reexecuted": false,
        "execution_millis": 47,
        "execution_start": 1699018599936,
        "id": "pzPmnapUgjeR",
        "outputId": "3eb798c5-989e-4b79-fc9c-155f954b46be",
        "source_hash": "265d1124"
      },
      "outputs": [
        {
          "data": {
            "text/plain": [
              "((1460, 80), (1459, 79))"
            ]
          },
          "execution_count": 5,
          "metadata": {},
          "output_type": "execute_result"
        }
      ],
      "source": [
        "# Setting the Id column as the index\n",
        "house_df = house_df.set_index(\"Id\")\n",
        "test_data = test_data.set_index(\"Id\")\n",
        "house_df.shape , test_data.shape"
      ]
    },
    {
      "cell_type": "markdown",
      "metadata": {
        "id": "OJpmnKMl6hO3"
      },
      "source": [
        "The training data contains 80 features and 1460 records.\n",
        "\n",
        "The testing data contains 79 features and 1459 records.\n",
        "\n",
        "The one extra feature in the training data is the \"SalePrice\" column which contains the house price we are trying to predict."
      ]
    },
    {
      "cell_type": "markdown",
      "metadata": {
        "id": "fGqcCFuQ68su"
      },
      "source": [
        "## Handling Missing Data"
      ]
    },
    {
      "cell_type": "code",
      "execution_count": null,
      "metadata": {
        "cell_id": "42d2e0d1798441a69f36b869edb9a6fd",
        "colab": {
          "base_uri": "https://localhost:8080/"
        },
        "deepnote_app_coordinates": {
          "h": 5,
          "w": 12,
          "x": 0,
          "y": 0
        },
        "deepnote_cell_type": "code",
        "deepnote_to_be_reexecuted": false,
        "execution_millis": 34,
        "execution_start": 1699018599947,
        "id": "ufvMD5YfgjeR",
        "outputId": "6c46f575-8b35-45af-8926-77f3673dcd2d",
        "source_hash": "a3d30b5b"
      },
      "outputs": [
        {
          "data": {
            "text/plain": [
              "PoolQC           1453\n",
              "MiscFeature      1406\n",
              "Alley            1369\n",
              "Fence            1179\n",
              "MasVnrType        872\n",
              "FireplaceQu       690\n",
              "LotFrontage       259\n",
              "GarageYrBlt        81\n",
              "GarageCond         81\n",
              "GarageType         81\n",
              "GarageFinish       81\n",
              "GarageQual         81\n",
              "BsmtExposure       38\n",
              "BsmtFinType2       38\n",
              "BsmtCond           37\n",
              "BsmtQual           37\n",
              "BsmtFinType1       37\n",
              "MasVnrArea          8\n",
              "Electrical          1\n",
              "MSSubClass          0\n",
              "Fireplaces          0\n",
              "Functional          0\n",
              "KitchenQual         0\n",
              "KitchenAbvGr        0\n",
              "BedroomAbvGr        0\n",
              "HalfBath            0\n",
              "FullBath            0\n",
              "BsmtHalfBath        0\n",
              "TotRmsAbvGrd        0\n",
              "GarageCars          0\n",
              "GrLivArea           0\n",
              "GarageArea          0\n",
              "PavedDrive          0\n",
              "WoodDeckSF          0\n",
              "OpenPorchSF         0\n",
              "EnclosedPorch       0\n",
              "3SsnPorch           0\n",
              "ScreenPorch         0\n",
              "PoolArea            0\n",
              "MiscVal             0\n",
              "MoSold              0\n",
              "YrSold              0\n",
              "SaleType            0\n",
              "SaleCondition       0\n",
              "BsmtFullBath        0\n",
              "CentralAir          0\n",
              "LowQualFinSF        0\n",
              "Neighborhood        0\n",
              "OverallCond         0\n",
              "OverallQual         0\n",
              "dtype: int64"
            ]
          },
          "execution_count": 6,
          "metadata": {},
          "output_type": "execute_result"
        }
      ],
      "source": [
        "missing_list = house_df.isna().sum().sort_values(ascending = False).head(n = 50)\n",
        "missing_list"
      ]
    },
    {
      "cell_type": "markdown",
      "metadata": {
        "id": "d-iP8TCI6_DX"
      },
      "source": [
        "This data has a lot of missing data that has to be handled."
      ]
    },
    {
      "cell_type": "code",
      "execution_count": null,
      "metadata": {
        "cell_id": "e202b1963a6348a480efa26bc1e7fc57",
        "colab": {
          "base_uri": "https://localhost:8080/"
        },
        "deepnote_app_coordinates": {
          "h": 5,
          "w": 12,
          "x": 0,
          "y": 0
        },
        "deepnote_cell_type": "code",
        "deepnote_to_be_reexecuted": false,
        "execution_millis": 2017,
        "execution_start": 1699018599977,
        "id": "tHpfQwXtgjeR",
        "outputId": "e8beeee4-7c6e-45a4-f561-c9a1b4d31bf7",
        "source_hash": "721dedd4"
      },
      "outputs": [
        {
          "data": {
            "text/plain": [
              "PoolQC           0.995205\n",
              "MiscFeature      0.963014\n",
              "Alley            0.937671\n",
              "Fence            0.807534\n",
              "MasVnrType       0.597260\n",
              "FireplaceQu      0.472603\n",
              "LotFrontage      0.177397\n",
              "GarageYrBlt      0.055479\n",
              "GarageCond       0.055479\n",
              "GarageType       0.055479\n",
              "GarageFinish     0.055479\n",
              "GarageQual       0.055479\n",
              "BsmtExposure     0.026027\n",
              "BsmtFinType2     0.026027\n",
              "BsmtCond         0.025342\n",
              "BsmtQual         0.025342\n",
              "BsmtFinType1     0.025342\n",
              "MasVnrArea       0.005479\n",
              "Electrical       0.000685\n",
              "MSSubClass       0.000000\n",
              "Fireplaces       0.000000\n",
              "Functional       0.000000\n",
              "KitchenQual      0.000000\n",
              "KitchenAbvGr     0.000000\n",
              "BedroomAbvGr     0.000000\n",
              "HalfBath         0.000000\n",
              "FullBath         0.000000\n",
              "BsmtHalfBath     0.000000\n",
              "TotRmsAbvGrd     0.000000\n",
              "GarageCars       0.000000\n",
              "GrLivArea        0.000000\n",
              "GarageArea       0.000000\n",
              "PavedDrive       0.000000\n",
              "WoodDeckSF       0.000000\n",
              "OpenPorchSF      0.000000\n",
              "EnclosedPorch    0.000000\n",
              "3SsnPorch        0.000000\n",
              "ScreenPorch      0.000000\n",
              "PoolArea         0.000000\n",
              "MiscVal          0.000000\n",
              "MoSold           0.000000\n",
              "YrSold           0.000000\n",
              "SaleType         0.000000\n",
              "SaleCondition    0.000000\n",
              "BsmtFullBath     0.000000\n",
              "CentralAir       0.000000\n",
              "LowQualFinSF     0.000000\n",
              "Neighborhood     0.000000\n",
              "OverallCond      0.000000\n",
              "OverallQual      0.000000\n",
              "dtype: float64"
            ]
          },
          "execution_count": 7,
          "metadata": {},
          "output_type": "execute_result"
        }
      ],
      "source": [
        "# Fraction of data missing in each column\n",
        "percentage_missing = missing_list/house_df.shape[0]\n",
        "percentage_missing"
      ]
    },
    {
      "cell_type": "code",
      "execution_count": null,
      "metadata": {
        "cell_id": "f4677793c9044cfc886ab3604a12368a",
        "colab": {
          "base_uri": "https://localhost:8080/"
        },
        "deepnote_app_coordinates": {
          "h": 5,
          "w": 12,
          "x": 0,
          "y": 0
        },
        "deepnote_cell_type": "code",
        "deepnote_to_be_reexecuted": false,
        "execution_millis": 36,
        "execution_start": 1699018602005,
        "id": "hhZvRSxcgjeS",
        "outputId": "ef0f40bd-9aa5-4950-e23f-6aa917df642b",
        "source_hash": "9db62195"
      },
      "outputs": [
        {
          "data": {
            "text/plain": [
              "Index(['PoolQC', 'MiscFeature', 'Alley', 'Fence', 'MasVnrType', 'FireplaceQu'], dtype='object')"
            ]
          },
          "execution_count": 8,
          "metadata": {},
          "output_type": "execute_result"
        }
      ],
      "source": [
        "# Setting a thresold to drop some selected features which have many missing values\n",
        "cols_to_drop = percentage_missing[percentage_missing > 0.45].keys()\n",
        "cols_to_drop"
      ]
    },
    {
      "cell_type": "code",
      "execution_count": null,
      "metadata": {
        "cell_id": "77085f59ef1f4b37be62290f21d336e5",
        "deepnote_app_coordinates": {
          "h": 5,
          "w": 12,
          "x": 0,
          "y": 0
        },
        "deepnote_cell_type": "code",
        "deepnote_table_loading": false,
        "deepnote_table_state": {
          "filters": [],
          "pageIndex": 0,
          "pageSize": 10,
          "sortBy": []
        },
        "deepnote_to_be_reexecuted": false,
        "execution_millis": 32,
        "execution_start": 1699018602024,
        "id": "-YTS9AaFgjeS",
        "source_hash": "b6329d8a"
      },
      "outputs": [],
      "source": [
        "house_df.drop(cols_to_drop, axis = 1, inplace=True)\n",
        "test_data.drop(cols_to_drop, axis = 1, inplace=True)\n"
      ]
    },
    {
      "cell_type": "code",
      "execution_count": null,
      "metadata": {
        "cell_id": "0e81e1f5cb9a4890bc1767f91d771a4a",
        "colab": {
          "base_uri": "https://localhost:8080/"
        },
        "deepnote_app_coordinates": {
          "h": 5,
          "w": 12,
          "x": 0,
          "y": 0
        },
        "deepnote_cell_type": "code",
        "deepnote_to_be_reexecuted": false,
        "execution_millis": 156,
        "execution_start": 1699018602042,
        "id": "IZlD7TTOgjeT",
        "outputId": "60b22af7-1187-455f-a275-04f06dc2a76f",
        "source_hash": "94f25401"
      },
      "outputs": [
        {
          "data": {
            "text/plain": [
              "LotFrontage     259\n",
              "GarageYrBlt      81\n",
              "GarageCond       81\n",
              "GarageType       81\n",
              "GarageFinish     81\n",
              "               ... \n",
              "BsmtUnfSF         0\n",
              "TotalBsmtSF       0\n",
              "Heating           0\n",
              "MSZoning          0\n",
              "SalePrice         0\n",
              "Length: 74, dtype: int64"
            ]
          },
          "execution_count": 10,
          "metadata": {},
          "output_type": "execute_result"
        }
      ],
      "source": [
        "house_df.isna().sum().sort_values(ascending = False)"
      ]
    },
    {
      "cell_type": "markdown",
      "metadata": {
        "id": "gnsY4fFz7ZvB"
      },
      "source": [
        "The remaining missing values will be imputed using SimpleImputer of scikit-learn."
      ]
    },
    {
      "cell_type": "code",
      "execution_count": null,
      "metadata": {
        "cell_id": "d2caaf1246154125ab01a53f0bb13bbe",
        "deepnote_app_coordinates": {
          "h": 5,
          "w": 12,
          "x": 0,
          "y": 0
        },
        "deepnote_cell_type": "code",
        "deepnote_to_be_reexecuted": false,
        "execution_millis": 1669,
        "execution_start": 1699018602069,
        "id": "NdrZl7NIgjeT",
        "source_hash": "6f4d7824"
      },
      "outputs": [],
      "source": [
        "from sklearn.impute import SimpleImputer"
      ]
    },
    {
      "cell_type": "code",
      "execution_count": null,
      "metadata": {
        "cell_id": "1a2f895308684a9aa4d6b6786e258b06",
        "deepnote_app_coordinates": {
          "h": 5,
          "w": 12,
          "x": 0,
          "y": 0
        },
        "deepnote_cell_type": "code",
        "deepnote_to_be_reexecuted": false,
        "execution_millis": 18,
        "execution_start": 1699018603746,
        "id": "M8t5OBw9gjeT",
        "source_hash": "32f121ed"
      },
      "outputs": [],
      "source": [
        "mean_imputer = SimpleImputer(missing_values= np.nan , strategy= 'mean') # Uses mean to impute\n",
        "most_frequent_imputer = SimpleImputer(missing_values= np.nan, strategy='most_frequent') # Uses mode to impute\n",
        "median_imputer = SimpleImputer(missing_values=np.nan, strategy='median') # Uses median to impute"
      ]
    },
    {
      "cell_type": "code",
      "execution_count": null,
      "metadata": {
        "cell_id": "cc1ec84e71174919b6cece7897883045",
        "colab": {
          "base_uri": "https://localhost:8080/",
          "height": 506
        },
        "deepnote_app_coordinates": {
          "h": 5,
          "w": 12,
          "x": 0,
          "y": 0
        },
        "deepnote_cell_type": "code",
        "deepnote_to_be_reexecuted": false,
        "execution_millis": 764,
        "execution_start": 1699018603779,
        "id": "d18ljF4ZgjeT",
        "outputId": "51b86849-6367-4d57-9ebf-fea312616182",
        "source_hash": "63110c49"
      },
      "outputs": [
        {
          "data": {
            "image/png": "[encoded data removed]",
            "text/plain": [
              "<Figure size 500x500 with 1 Axes>"
            ]
          },
          "metadata": {},
          "output_type": "display_data"
        }
      ],
      "source": [
        "sns.displot(data = house_df, x = \"LotFrontage\")\n",
        "plt.show()"
      ]
    },
    {
      "cell_type": "markdown",
      "metadata": {
        "id": "2OA1mwtN7phV"
      },
      "source": [
        "The LotFrontage Feature seems to be almost normally distributed so we can use the mean imputer to impute it's missing values."
      ]
    },
    {
      "cell_type": "code",
      "execution_count": null,
      "metadata": {
        "cell_id": "3c91997323bc4c88b2883d1817fda165",
        "deepnote_app_coordinates": {
          "h": 5,
          "w": 12,
          "x": 0,
          "y": 0
        },
        "deepnote_cell_type": "code",
        "deepnote_to_be_reexecuted": false,
        "execution_millis": 6,
        "execution_start": 1699018604563,
        "id": "p8atO-lFgjeU",
        "source_hash": "58eeb767"
      },
      "outputs": [],
      "source": [
        "house_df[\"LotFrontage\"]=mean_imputer.fit_transform(house_df[[\"LotFrontage\"]])\n",
        "test_data[\"LotFrontage\"]=mean_imputer.fit_transform(test_data[[\"LotFrontage\"]])"
      ]
    },
    {
      "cell_type": "code",
      "execution_count": null,
      "metadata": {
        "cell_id": "78fb7b3ae213471982f7eaab28a92c1c",
        "colab": {
          "base_uri": "https://localhost:8080/"
        },
        "deepnote_app_coordinates": {
          "h": 5,
          "w": 12,
          "x": 0,
          "y": 0
        },
        "deepnote_cell_type": "code",
        "deepnote_to_be_reexecuted": false,
        "execution_millis": 24,
        "execution_start": 1699018604571,
        "id": "3ajDIOeZgjeU",
        "outputId": "32214fee-d37f-4c2f-efa6-69a02036e52a",
        "source_hash": "7db3613f"
      },
      "outputs": [
        {
          "data": {
            "text/plain": [
              "GarageType       81\n",
              "GarageCond       81\n",
              "GarageYrBlt      81\n",
              "GarageFinish     81\n",
              "GarageQual       81\n",
              "BsmtFinType2     38\n",
              "BsmtExposure     38\n",
              "BsmtFinType1     37\n",
              "BsmtCond         37\n",
              "BsmtQual         37\n",
              "MasVnrArea        8\n",
              "Electrical        1\n",
              "WoodDeckSF        0\n",
              "PavedDrive        0\n",
              "LowQualFinSF      0\n",
              "GrLivArea         0\n",
              "BsmtFullBath      0\n",
              "BsmtHalfBath      0\n",
              "FullBath          0\n",
              "HalfBath          0\n",
              "SaleCondition     0\n",
              "BedroomAbvGr      0\n",
              "SaleType          0\n",
              "YrSold            0\n",
              "MoSold            0\n",
              "MiscVal           0\n",
              "KitchenAbvGr      0\n",
              "KitchenQual       0\n",
              "TotRmsAbvGrd      0\n",
              "PoolArea          0\n",
              "dtype: int64"
            ]
          },
          "execution_count": 15,
          "metadata": {},
          "output_type": "execute_result"
        }
      ],
      "source": [
        "house_df.isna().sum().sort_values(ascending = False).head(n=30)"
      ]
    },
    {
      "cell_type": "markdown",
      "metadata": {
        "id": "YdXJ1_rT7zk1"
      },
      "source": [
        "There are many categorical values to be imputed. We will use the mode stategy for them."
      ]
    },
    {
      "cell_type": "code",
      "execution_count": null,
      "metadata": {
        "cell_id": "931e88268cc94db4a5335b55a6d97ef7",
        "deepnote_app_coordinates": {
          "h": 5,
          "w": 12,
          "x": 0,
          "y": 0
        },
        "deepnote_cell_type": "code",
        "deepnote_to_be_reexecuted": false,
        "execution_millis": 34,
        "execution_start": 1699018604597,
        "id": "V8BKQGeggjeU",
        "source_hash": "932fe556"
      },
      "outputs": [],
      "source": [
        "categorical_missing = [\"GarageCond\", \"GarageFinish\", \"GarageQual\",\"GarageType\",\n",
        "\"BsmtExposure\",\"BsmtCond\",\"BsmtQual\",\"BsmtFinType2\",\"BsmtFinType1\"]"
      ]
    },
    {
      "cell_type": "code",
      "execution_count": null,
      "metadata": {
        "cell_id": "02c4d36201424b0e865f83f26e169a6c",
        "deepnote_app_coordinates": {
          "h": 5,
          "w": 12,
          "x": 0,
          "y": 0
        },
        "deepnote_cell_type": "code",
        "deepnote_to_be_reexecuted": false,
        "execution_millis": 69,
        "execution_start": 1699018604615,
        "id": "DjzckYQdgjeU",
        "source_hash": "87fc6e97"
      },
      "outputs": [],
      "source": [
        "house_df[categorical_missing] = most_frequent_imputer.fit_transform(house_df[categorical_missing])\n",
        "test_data[categorical_missing] = most_frequent_imputer.fit_transform(test_data[categorical_missing])"
      ]
    },
    {
      "cell_type": "code",
      "execution_count": null,
      "metadata": {
        "cell_id": "ba1a7ea9b4884751a4eb84ff776ee6a1",
        "colab": {
          "base_uri": "https://localhost:8080/",
          "height": 506
        },
        "deepnote_app_coordinates": {
          "h": 5,
          "w": 12,
          "x": 0,
          "y": 0
        },
        "deepnote_cell_type": "code",
        "deepnote_to_be_reexecuted": false,
        "execution_millis": 566,
        "execution_start": 1699018604695,
        "id": "xxbWs6M4gjeV",
        "outputId": "a3b5cdb8-d753-4718-cd8d-ea53153be27b",
        "source_hash": "92b571c1"
      },
      "outputs": [
        {
          "data": {
            "image/png": "[encoded data removed]",
            "text/plain": [
              "<Figure size 500x500 with 1 Axes>"
            ]
          },
          "metadata": {},
          "output_type": "display_data"
        }
      ],
      "source": [
        "sns.displot(data = house_df, x=\"GarageYrBlt\")\n",
        "plt.show()"
      ]
    },
    {
      "cell_type": "markdown",
      "metadata": {
        "id": "AFn-P9Su78Uh"
      },
      "source": [
        "Finally, the GarageYrBit feature is skewed to the right. So, we use meadin to impute it's missing values."
      ]
    },
    {
      "cell_type": "code",
      "execution_count": null,
      "metadata": {
        "cell_id": "6c8175a76f444d13b98ea9c0ad775743",
        "deepnote_app_coordinates": {
          "h": 5,
          "w": 12,
          "x": 0,
          "y": 0
        },
        "deepnote_cell_type": "code",
        "deepnote_to_be_reexecuted": false,
        "execution_millis": 45,
        "execution_start": 1699018605270,
        "id": "TtFkK9jTgjeV",
        "source_hash": "5cc1f25b"
      },
      "outputs": [],
      "source": [
        "house_df[\"GarageYrBlt\"] = median_imputer.fit_transform(house_df[[\"GarageYrBlt\"]])\n",
        "test_data[\"GarageYrBlt\"] = median_imputer.fit_transform(test_data[[\"GarageYrBlt\"]])"
      ]
    },
    {
      "cell_type": "code",
      "execution_count": null,
      "metadata": {
        "cell_id": "29e57f3bc6654b2b8725b76d0f556c48",
        "colab": {
          "base_uri": "https://localhost:8080/"
        },
        "deepnote_app_coordinates": {
          "h": 5,
          "w": 12,
          "x": 0,
          "y": 0
        },
        "deepnote_cell_type": "code",
        "deepnote_to_be_reexecuted": false,
        "execution_millis": 42,
        "execution_start": 1699018605303,
        "id": "lfzzu7I_gjeV",
        "outputId": "82451783-6744-427f-8159-cb2998d62663",
        "source_hash": "7db3613f"
      },
      "outputs": [
        {
          "data": {
            "text/plain": [
              "MasVnrArea       8\n",
              "Electrical       1\n",
              "GarageYrBlt      0\n",
              "Fireplaces       0\n",
              "Functional       0\n",
              "TotRmsAbvGrd     0\n",
              "KitchenQual      0\n",
              "KitchenAbvGr     0\n",
              "BedroomAbvGr     0\n",
              "HalfBath         0\n",
              "FullBath         0\n",
              "BsmtHalfBath     0\n",
              "BsmtFullBath     0\n",
              "GrLivArea        0\n",
              "LowQualFinSF     0\n",
              "2ndFlrSF         0\n",
              "1stFlrSF         0\n",
              "GarageType       0\n",
              "MSSubClass       0\n",
              "CentralAir       0\n",
              "GarageCars       0\n",
              "SaleCondition    0\n",
              "SaleType         0\n",
              "YrSold           0\n",
              "MoSold           0\n",
              "MiscVal          0\n",
              "PoolArea         0\n",
              "ScreenPorch      0\n",
              "3SsnPorch        0\n",
              "EnclosedPorch    0\n",
              "dtype: int64"
            ]
          },
          "execution_count": 20,
          "metadata": {},
          "output_type": "execute_result"
        }
      ],
      "source": [
        "house_df.isna().sum().sort_values(ascending = False).head(n=30)"
      ]
    },
    {
      "cell_type": "markdown",
      "metadata": {
        "id": "CRTJMnzQBwxq"
      },
      "source": [
        "Now, not much data is missing. So, we can just remove these missing entries."
      ]
    },
    {
      "cell_type": "code",
      "execution_count": null,
      "metadata": {
        "cell_id": "82802e6b68b947cf8050611a21aa1e91",
        "deepnote_app_coordinates": {
          "h": 5,
          "w": 12,
          "x": 0,
          "y": 0
        },
        "deepnote_cell_type": "code",
        "deepnote_to_be_reexecuted": false,
        "execution_millis": 65,
        "execution_start": 1699018605316,
        "id": "3R205MvfgjeV",
        "source_hash": "e147c804"
      },
      "outputs": [],
      "source": [
        "house_df.dropna(inplace = True)\n",
        "test_data.dropna(inplace = True)"
      ]
    },
    {
      "cell_type": "code",
      "execution_count": null,
      "metadata": {
        "cell_id": "98498a4592a74c3da25280f2a700e0ff",
        "colab": {
          "base_uri": "https://localhost:8080/"
        },
        "deepnote_app_coordinates": {
          "h": 5,
          "w": 12,
          "x": 0,
          "y": 0
        },
        "deepnote_cell_type": "code",
        "deepnote_to_be_reexecuted": false,
        "execution_millis": 64,
        "execution_start": 1699018605375,
        "id": "xwE-WyAegjeV",
        "outputId": "2c2a78c7-0cff-4d3c-b6f2-631e63c83248",
        "source_hash": "7be6e0fd"
      },
      "outputs": [
        {
          "name": "stdout",
          "output_type": "stream",
          "text": [
            "MSSubClass      0\n",
            "GarageYrBlt     0\n",
            "Fireplaces      0\n",
            "Functional      0\n",
            "TotRmsAbvGrd    0\n",
            "               ..\n",
            "ExterQual       0\n",
            "MasVnrArea      0\n",
            "Exterior2nd     0\n",
            "Exterior1st     0\n",
            "SalePrice       0\n",
            "Length: 74, dtype: int64\n",
            "(1451, 74)\n",
            "(1432, 73)\n"
          ]
        }
      ],
      "source": [
        "print(house_df.isna().sum().sort_values(ascending = False))\n",
        "print(house_df.shape)\n",
        "print(test_data.shape)"
      ]
    },
    {
      "cell_type": "markdown",
      "metadata": {
        "cell_id": "b3a1b5dc62b9428e89fe8834bfd3a567",
        "deepnote_app_coordinates": {
          "h": 5,
          "w": 12,
          "x": 0,
          "y": 0
        },
        "deepnote_cell_type": "markdown",
        "id": "FG1YbtUEgjeW"
      },
      "source": [
        "#### All missing values have been handled!"
      ]
    },
    {
      "cell_type": "code",
      "execution_count": null,
      "metadata": {
        "cell_id": "b09150013a7b48f5b6a2d521f83bf939",
        "colab": {
          "base_uri": "https://localhost:8080/",
          "height": 287
        },
        "deepnote_app_coordinates": {
          "h": 5,
          "w": 12,
          "x": 0,
          "y": 0
        },
        "deepnote_cell_type": "code",
        "deepnote_to_be_reexecuted": false,
        "execution_millis": 247,
        "execution_start": 1699018605425,
        "id": "RpxMyBWngjeX",
        "outputId": "97b0961b-c9fd-45ce-e418-2494534de44a",
        "source_hash": "b070e97e"
      },
      "outputs": [
        {
          "data": {
            "text/html": [
              "<div>\n",
              "<style scoped>\n",
              "    .dataframe tbody tr th:only-of-type {\n",
              "        vertical-align: middle;\n",
              "    }\n",
              "\n",
              "    .dataframe tbody tr th {\n",
              "        vertical-align: top;\n",
              "    }\n",
              "\n",
              "    .dataframe thead th {\n",
              "        text-align: right;\n",
              "    }\n",
              "</style>\n",
              "<table border=\"1\" class=\"dataframe\">\n",
              "  <thead>\n",
              "    <tr style=\"text-align: right;\">\n",
              "      <th></th>\n",
              "      <th>MSSubClass</th>\n",
              "      <th>MSZoning</th>\n",
              "      <th>LotFrontage</th>\n",
              "      <th>LotArea</th>\n",
              "      <th>Street</th>\n",
              "      <th>LotShape</th>\n",
              "      <th>LandContour</th>\n",
              "      <th>Utilities</th>\n",
              "      <th>LotConfig</th>\n",
              "      <th>LandSlope</th>\n",
              "      <th>...</th>\n",
              "      <th>EnclosedPorch</th>\n",
              "      <th>3SsnPorch</th>\n",
              "      <th>ScreenPorch</th>\n",
              "      <th>PoolArea</th>\n",
              "      <th>MiscVal</th>\n",
              "      <th>MoSold</th>\n",
              "      <th>YrSold</th>\n",
              "      <th>SaleType</th>\n",
              "      <th>SaleCondition</th>\n",
              "      <th>SalePrice</th>\n",
              "    </tr>\n",
              "    <tr>\n",
              "      <th>Id</th>\n",
              "      <th></th>\n",
              "      <th></th>\n",
              "      <th></th>\n",
              "      <th></th>\n",
              "      <th></th>\n",
              "      <th></th>\n",
              "      <th></th>\n",
              "      <th></th>\n",
              "      <th></th>\n",
              "      <th></th>\n",
              "      <th></th>\n",
              "      <th></th>\n",
              "      <th></th>\n",
              "      <th></th>\n",
              "      <th></th>\n",
              "      <th></th>\n",
              "      <th></th>\n",
              "      <th></th>\n",
              "      <th></th>\n",
              "      <th></th>\n",
              "      <th></th>\n",
              "    </tr>\n",
              "  </thead>\n",
              "  <tbody>\n",
              "    <tr>\n",
              "      <th>1</th>\n",
              "      <td>60</td>\n",
              "      <td>RL</td>\n",
              "      <td>65.0</td>\n",
              "      <td>8450</td>\n",
              "      <td>Pave</td>\n",
              "      <td>Reg</td>\n",
              "      <td>Lvl</td>\n",
              "      <td>AllPub</td>\n",
              "      <td>Inside</td>\n",
              "      <td>Gtl</td>\n",
              "      <td>...</td>\n",
              "      <td>0</td>\n",
              "      <td>0</td>\n",
              "      <td>0</td>\n",
              "      <td>0</td>\n",
              "      <td>0</td>\n",
              "      <td>2</td>\n",
              "      <td>2008</td>\n",
              "      <td>WD</td>\n",
              "      <td>Normal</td>\n",
              "      <td>208500</td>\n",
              "    </tr>\n",
              "    <tr>\n",
              "      <th>2</th>\n",
              "      <td>20</td>\n",
              "      <td>RL</td>\n",
              "      <td>80.0</td>\n",
              "      <td>9600</td>\n",
              "      <td>Pave</td>\n",
              "      <td>Reg</td>\n",
              "      <td>Lvl</td>\n",
              "      <td>AllPub</td>\n",
              "      <td>FR2</td>\n",
              "      <td>Gtl</td>\n",
              "      <td>...</td>\n",
              "      <td>0</td>\n",
              "      <td>0</td>\n",
              "      <td>0</td>\n",
              "      <td>0</td>\n",
              "      <td>0</td>\n",
              "      <td>5</td>\n",
              "      <td>2007</td>\n",
              "      <td>WD</td>\n",
              "      <td>Normal</td>\n",
              "      <td>181500</td>\n",
              "    </tr>\n",
              "    <tr>\n",
              "      <th>3</th>\n",
              "      <td>60</td>\n",
              "      <td>RL</td>\n",
              "      <td>68.0</td>\n",
              "      <td>11250</td>\n",
              "      <td>Pave</td>\n",
              "      <td>IR1</td>\n",
              "      <td>Lvl</td>\n",
              "      <td>AllPub</td>\n",
              "      <td>Inside</td>\n",
              "      <td>Gtl</td>\n",
              "      <td>...</td>\n",
              "      <td>0</td>\n",
              "      <td>0</td>\n",
              "      <td>0</td>\n",
              "      <td>0</td>\n",
              "      <td>0</td>\n",
              "      <td>9</td>\n",
              "      <td>2008</td>\n",
              "      <td>WD</td>\n",
              "      <td>Normal</td>\n",
              "      <td>223500</td>\n",
              "    </tr>\n",
              "    <tr>\n",
              "      <th>4</th>\n",
              "      <td>70</td>\n",
              "      <td>RL</td>\n",
              "      <td>60.0</td>\n",
              "      <td>9550</td>\n",
              "      <td>Pave</td>\n",
              "      <td>IR1</td>\n",
              "      <td>Lvl</td>\n",
              "      <td>AllPub</td>\n",
              "      <td>Corner</td>\n",
              "      <td>Gtl</td>\n",
              "      <td>...</td>\n",
              "      <td>272</td>\n",
              "      <td>0</td>\n",
              "      <td>0</td>\n",
              "      <td>0</td>\n",
              "      <td>0</td>\n",
              "      <td>2</td>\n",
              "      <td>2006</td>\n",
              "      <td>WD</td>\n",
              "      <td>Abnorml</td>\n",
              "      <td>140000</td>\n",
              "    </tr>\n",
              "    <tr>\n",
              "      <th>5</th>\n",
              "      <td>60</td>\n",
              "      <td>RL</td>\n",
              "      <td>84.0</td>\n",
              "      <td>14260</td>\n",
              "      <td>Pave</td>\n",
              "      <td>IR1</td>\n",
              "      <td>Lvl</td>\n",
              "      <td>AllPub</td>\n",
              "      <td>FR2</td>\n",
              "      <td>Gtl</td>\n",
              "      <td>...</td>\n",
              "      <td>0</td>\n",
              "      <td>0</td>\n",
              "      <td>0</td>\n",
              "      <td>0</td>\n",
              "      <td>0</td>\n",
              "      <td>12</td>\n",
              "      <td>2008</td>\n",
              "      <td>WD</td>\n",
              "      <td>Normal</td>\n",
              "      <td>250000</td>\n",
              "    </tr>\n",
              "  </tbody>\n",
              "</table>\n",
              "<p>5 rows × 74 columns</p>\n",
              "</div>"
            ],
            "text/plain": [
              "    MSSubClass MSZoning  LotFrontage  LotArea Street LotShape LandContour  \\\n",
              "Id                                                                          \n",
              "1           60       RL         65.0     8450   Pave      Reg         Lvl   \n",
              "2           20       RL         80.0     9600   Pave      Reg         Lvl   \n",
              "3           60       RL         68.0    11250   Pave      IR1         Lvl   \n",
              "4           70       RL         60.0     9550   Pave      IR1         Lvl   \n",
              "5           60       RL         84.0    14260   Pave      IR1         Lvl   \n",
              "\n",
              "   Utilities LotConfig LandSlope  ... EnclosedPorch 3SsnPorch ScreenPorch  \\\n",
              "Id                                ...                                       \n",
              "1     AllPub    Inside       Gtl  ...             0         0           0   \n",
              "2     AllPub       FR2       Gtl  ...             0         0           0   \n",
              "3     AllPub    Inside       Gtl  ...             0         0           0   \n",
              "4     AllPub    Corner       Gtl  ...           272         0           0   \n",
              "5     AllPub       FR2       Gtl  ...             0         0           0   \n",
              "\n",
              "   PoolArea MiscVal  MoSold  YrSold  SaleType  SaleCondition SalePrice  \n",
              "Id                                                                      \n",
              "1         0       0       2    2008        WD         Normal    208500  \n",
              "2         0       0       5    2007        WD         Normal    181500  \n",
              "3         0       0       9    2008        WD         Normal    223500  \n",
              "4         0       0       2    2006        WD        Abnorml    140000  \n",
              "5         0       0      12    2008        WD         Normal    250000  \n",
              "\n",
              "[5 rows x 74 columns]"
            ]
          },
          "execution_count": 23,
          "metadata": {},
          "output_type": "execute_result"
        }
      ],
      "source": [
        "house_df.head()"
      ]
    },
    {
      "cell_type": "markdown",
      "metadata": {
        "id": "t6SjYSomB-_C"
      },
      "source": [
        "## Data Preprocessing\n",
        "\n"
      ]
    },
    {
      "cell_type": "code",
      "execution_count": null,
      "metadata": {
        "cell_id": "2996b635352641aebeeaf2a23f39e417",
        "deepnote_app_coordinates": {
          "h": 5,
          "w": 12,
          "x": 0,
          "y": 0
        },
        "deepnote_cell_type": "code",
        "deepnote_to_be_reexecuted": false,
        "execution_millis": 61,
        "execution_start": 1699018605690,
        "id": "AfQzoA2ZgjeX",
        "source_hash": "e5003722"
      },
      "outputs": [],
      "source": [
        "from sklearn.model_selection import train_test_split\n",
        "from sklearn.preprocessing import StandardScaler\n",
        "from sklearn.model_selection import cross_val_score\n",
        "from sklearn.metrics import r2_score, mean_absolute_error\n",
        "from sklearn.preprocessing import LabelEncoder"
      ]
    },
    {
      "cell_type": "code",
      "execution_count": null,
      "metadata": {
        "cell_id": "0948436690ee496c844d39866625aa8e",
        "colab": {
          "base_uri": "https://localhost:8080/"
        },
        "deepnote_app_coordinates": {
          "h": 5,
          "w": 12,
          "x": 0,
          "y": 0
        },
        "deepnote_app_is_output_hidden": true,
        "deepnote_cell_type": "code",
        "deepnote_to_be_reexecuted": false,
        "execution_millis": 14,
        "execution_start": 1699018605764,
        "id": "UcylcjhIgjeX",
        "is_output_hidden": true,
        "outputId": "a69ffb47-daa2-4426-be5a-30b60dccb06e",
        "source_hash": "6b15ab53"
      },
      "outputs": [
        {
          "data": {
            "text/plain": [
              "['MSSubClass',\n",
              " 'LotFrontage',\n",
              " 'LotArea',\n",
              " 'OverallQual',\n",
              " 'OverallCond',\n",
              " 'YearBuilt',\n",
              " 'YearRemodAdd',\n",
              " 'MasVnrArea',\n",
              " 'BsmtFinSF1',\n",
              " 'BsmtFinSF2',\n",
              " 'BsmtUnfSF',\n",
              " 'TotalBsmtSF',\n",
              " '1stFlrSF',\n",
              " '2ndFlrSF',\n",
              " 'LowQualFinSF',\n",
              " 'GrLivArea',\n",
              " 'BsmtFullBath',\n",
              " 'BsmtHalfBath',\n",
              " 'FullBath',\n",
              " 'HalfBath',\n",
              " 'BedroomAbvGr',\n",
              " 'KitchenAbvGr',\n",
              " 'TotRmsAbvGrd',\n",
              " 'Fireplaces',\n",
              " 'GarageYrBlt',\n",
              " 'GarageCars',\n",
              " 'GarageArea',\n",
              " 'WoodDeckSF',\n",
              " 'OpenPorchSF',\n",
              " 'EnclosedPorch',\n",
              " '3SsnPorch',\n",
              " 'ScreenPorch',\n",
              " 'PoolArea',\n",
              " 'MiscVal',\n",
              " 'MoSold',\n",
              " 'YrSold',\n",
              " 'SalePrice']"
            ]
          },
          "execution_count": 25,
          "metadata": {},
          "output_type": "execute_result"
        }
      ],
      "source": [
        "numerical_cols = house_df.select_dtypes(include = ['int64', 'float64']).columns.to_list()\n",
        "numerical_cols"
      ]
    },
    {
      "cell_type": "code",
      "execution_count": null,
      "metadata": {
        "cell_id": "32b3372b55d64b45992e3b05060c81cd",
        "colab": {
          "base_uri": "https://localhost:8080/"
        },
        "deepnote_app_coordinates": {
          "h": 5,
          "w": 12,
          "x": 0,
          "y": 0
        },
        "deepnote_app_is_output_hidden": true,
        "deepnote_cell_type": "code",
        "deepnote_to_be_reexecuted": false,
        "execution_millis": 44,
        "execution_start": 1699018605777,
        "id": "EH8BaAb8gjeY",
        "is_output_hidden": true,
        "outputId": "14e7f4be-9828-4d04-a940-892a83ebf329",
        "source_hash": "ade8944b"
      },
      "outputs": [
        {
          "data": {
            "text/plain": [
              "['MSZoning',\n",
              " 'Street',\n",
              " 'LotShape',\n",
              " 'LandContour',\n",
              " 'Utilities',\n",
              " 'LotConfig',\n",
              " 'LandSlope',\n",
              " 'Neighborhood',\n",
              " 'Condition1',\n",
              " 'Condition2',\n",
              " 'BldgType',\n",
              " 'HouseStyle',\n",
              " 'RoofStyle',\n",
              " 'RoofMatl',\n",
              " 'Exterior1st',\n",
              " 'Exterior2nd',\n",
              " 'ExterQual',\n",
              " 'ExterCond',\n",
              " 'Foundation',\n",
              " 'BsmtQual',\n",
              " 'BsmtCond',\n",
              " 'BsmtExposure',\n",
              " 'BsmtFinType1',\n",
              " 'BsmtFinType2',\n",
              " 'Heating',\n",
              " 'HeatingQC',\n",
              " 'CentralAir',\n",
              " 'Electrical',\n",
              " 'KitchenQual',\n",
              " 'Functional',\n",
              " 'GarageType',\n",
              " 'GarageFinish',\n",
              " 'GarageQual',\n",
              " 'GarageCond',\n",
              " 'PavedDrive',\n",
              " 'SaleType',\n",
              " 'SaleCondition']"
            ]
          },
          "execution_count": 26,
          "metadata": {},
          "output_type": "execute_result"
        }
      ],
      "source": [
        "categorical_cols = house_df.select_dtypes(include = ['object']).columns.to_list()\n",
        "categorical_cols"
      ]
    },
    {
      "cell_type": "code",
      "execution_count": null,
      "metadata": {
        "cell_id": "e1b8906133e2467291044ab932fdff6e",
        "colab": {
          "base_uri": "https://localhost:8080/"
        },
        "deepnote_app_coordinates": {
          "h": 5,
          "w": 12,
          "x": 0,
          "y": 0
        },
        "deepnote_app_is_output_hidden": true,
        "deepnote_cell_type": "code",
        "deepnote_to_be_reexecuted": false,
        "execution_millis": 20,
        "execution_start": 1699018605823,
        "id": "mmhWKw-tgjeY",
        "is_output_hidden": true,
        "outputId": "7b78f810-4ced-482d-c3fd-2c7ea7a612fc",
        "source_hash": "3da30da4"
      },
      "outputs": [
        {
          "data": {
            "text/plain": [
              "(      MSSubClass MSZoning  LotFrontage  LotArea Street LotShape LandContour  \\\n",
              " Id                                                                            \n",
              " 1             60       RL         65.0     8450   Pave      Reg         Lvl   \n",
              " 2             20       RL         80.0     9600   Pave      Reg         Lvl   \n",
              " 3             60       RL         68.0    11250   Pave      IR1         Lvl   \n",
              " 4             70       RL         60.0     9550   Pave      IR1         Lvl   \n",
              " 5             60       RL         84.0    14260   Pave      IR1         Lvl   \n",
              " ...          ...      ...          ...      ...    ...      ...         ...   \n",
              " 1456          60       RL         62.0     7917   Pave      Reg         Lvl   \n",
              " 1457          20       RL         85.0    13175   Pave      Reg         Lvl   \n",
              " 1458          70       RL         66.0     9042   Pave      Reg         Lvl   \n",
              " 1459          20       RL         68.0     9717   Pave      Reg         Lvl   \n",
              " 1460          20       RL         75.0     9937   Pave      Reg         Lvl   \n",
              " \n",
              "      Utilities LotConfig LandSlope  ... OpenPorchSF EnclosedPorch 3SsnPorch  \\\n",
              " Id                                  ...                                       \n",
              " 1       AllPub    Inside       Gtl  ...          61             0         0   \n",
              " 2       AllPub       FR2       Gtl  ...           0             0         0   \n",
              " 3       AllPub    Inside       Gtl  ...          42             0         0   \n",
              " 4       AllPub    Corner       Gtl  ...          35           272         0   \n",
              " 5       AllPub       FR2       Gtl  ...          84             0         0   \n",
              " ...        ...       ...       ...  ...         ...           ...       ...   \n",
              " 1456    AllPub    Inside       Gtl  ...          40             0         0   \n",
              " 1457    AllPub    Inside       Gtl  ...           0             0         0   \n",
              " 1458    AllPub    Inside       Gtl  ...          60             0         0   \n",
              " 1459    AllPub    Inside       Gtl  ...           0           112         0   \n",
              " 1460    AllPub    Inside       Gtl  ...          68             0         0   \n",
              " \n",
              "      ScreenPorch PoolArea  MiscVal  MoSold  YrSold  SaleType SaleCondition  \n",
              " Id                                                                          \n",
              " 1              0        0        0       2    2008        WD        Normal  \n",
              " 2              0        0        0       5    2007        WD        Normal  \n",
              " 3              0        0        0       9    2008        WD        Normal  \n",
              " 4              0        0        0       2    2006        WD       Abnorml  \n",
              " 5              0        0        0      12    2008        WD        Normal  \n",
              " ...          ...      ...      ...     ...     ...       ...           ...  \n",
              " 1456           0        0        0       8    2007        WD        Normal  \n",
              " 1457           0        0        0       2    2010        WD        Normal  \n",
              " 1458           0        0     2500       5    2010        WD        Normal  \n",
              " 1459           0        0        0       4    2010        WD        Normal  \n",
              " 1460           0        0        0       6    2008        WD        Normal  \n",
              " \n",
              " [1451 rows x 73 columns],\n",
              "       SalePrice\n",
              " Id             \n",
              " 1        208500\n",
              " 2        181500\n",
              " 3        223500\n",
              " 4        140000\n",
              " 5        250000\n",
              " ...         ...\n",
              " 1456     175000\n",
              " 1457     210000\n",
              " 1458     266500\n",
              " 1459     142125\n",
              " 1460     147500\n",
              " \n",
              " [1451 rows x 1 columns])"
            ]
          },
          "execution_count": 27,
          "metadata": {},
          "output_type": "execute_result"
        }
      ],
      "source": [
        "# Seperating features and values in the training data\n",
        "X = house_df.drop('SalePrice', axis = 1)\n",
        "y = house_df[['SalePrice']]\n",
        "X,y"
      ]
    },
    {
      "cell_type": "code",
      "execution_count": null,
      "metadata": {
        "cell_id": "c4c084693e13468ba726b9ba80dbb80f",
        "colab": {
          "base_uri": "https://localhost:8080/"
        },
        "deepnote_app_coordinates": {
          "h": 5,
          "w": 12,
          "x": 0,
          "y": 0
        },
        "deepnote_cell_type": "code",
        "deepnote_to_be_reexecuted": false,
        "execution_millis": 14,
        "execution_start": 1699018605864,
        "id": "v1Fj8eSAgjeY",
        "outputId": "138dd4a8-fd2d-4f69-a56d-f6be1331c92f",
        "source_hash": "ac8068dc"
      },
      "outputs": [
        {
          "data": {
            "text/plain": [
              "((1451, 73), (1451, 1))"
            ]
          },
          "execution_count": 28,
          "metadata": {},
          "output_type": "execute_result"
        }
      ],
      "source": [
        "X.shape , y.shape"
      ]
    },
    {
      "cell_type": "markdown",
      "metadata": {
        "id": "25f9MdC6CSVx"
      },
      "source": [
        "### Scaling the data using Standard Scaler"
      ]
    },
    {
      "cell_type": "code",
      "execution_count": null,
      "metadata": {
        "cell_id": "b146f5db4a5249398f8428330ae565b3",
        "deepnote_app_coordinates": {
          "h": 5,
          "w": 12,
          "x": 0,
          "y": 0
        },
        "deepnote_cell_type": "code",
        "deepnote_to_be_reexecuted": false,
        "execution_millis": 20,
        "execution_start": 1699018605915,
        "id": "A852upG2gjeY",
        "source_hash": "c190bd0e"
      },
      "outputs": [],
      "source": [
        "std_sc = StandardScaler()"
      ]
    },
    {
      "cell_type": "code",
      "execution_count": null,
      "metadata": {
        "cell_id": "19503f31013047f599be012d662afee6",
        "deepnote_app_coordinates": {
          "h": 5,
          "w": 12,
          "x": 0,
          "y": 0
        },
        "deepnote_cell_type": "code",
        "deepnote_to_be_reexecuted": false,
        "execution_millis": 20,
        "execution_start": 1699018605916,
        "id": "EuTk0jQTgjeY",
        "source_hash": "c10f73a5"
      },
      "outputs": [],
      "source": [
        "def MyStandardScaler(df, col_names):\n",
        "    features = df[col_names]\n",
        "    std_sc.fit(features.values)\n",
        "    features = std_sc.transform(features.values)\n",
        "    df[col_names] = features\n",
        "    return df"
      ]
    },
    {
      "cell_type": "code",
      "execution_count": null,
      "metadata": {
        "cell_id": "f519d4b3a1f342969db35e29eb2e503a",
        "colab": {
          "base_uri": "https://localhost:8080/"
        },
        "deepnote_app_coordinates": {
          "h": 5,
          "w": 12,
          "x": 0,
          "y": 0
        },
        "deepnote_cell_type": "code",
        "deepnote_to_be_reexecuted": false,
        "execution_millis": 44,
        "execution_start": 1699018605960,
        "id": "8DnY5fwLgjeY",
        "outputId": "5e236270-395b-4d64-890c-5e549cf7550e",
        "source_hash": "b9e7ad03"
      },
      "outputs": [
        {
          "data": {
            "text/plain": [
              "(      MSSubClass MSZoning  LotFrontage   LotArea Street LotShape LandContour  \\\n",
              " Id                                                                             \n",
              " 1       0.072441       RL    -0.228363 -0.205996   Pave      Reg         Lvl   \n",
              " 2      -0.872386       RL     0.452424 -0.090876   Pave      Reg         Lvl   \n",
              " 3       0.072441       RL    -0.092205  0.074297   Pave      IR1         Lvl   \n",
              " 4       0.308648       RL    -0.455291 -0.095881   Pave      IR1         Lvl   \n",
              " 5       0.072441       RL     0.633967  0.375612   Pave      IR1         Lvl   \n",
              " ...          ...      ...          ...       ...    ...      ...         ...   \n",
              " 1456    0.072441       RL    -0.364520 -0.259352   Pave      Reg         Lvl   \n",
              " 1457   -0.872386       RL     0.679353  0.266998   Pave      Reg         Lvl   \n",
              " 1458    0.308648       RL    -0.182977 -0.146734   Pave      Reg         Lvl   \n",
              " 1459   -0.872386       RL    -0.092205 -0.079164   Pave      Reg         Lvl   \n",
              " 1460   -0.872386       RL     0.225495 -0.057141   Pave      Reg         Lvl   \n",
              " \n",
              "      Utilities LotConfig LandSlope  ... OpenPorchSF EnclosedPorch 3SsnPorch  \\\n",
              " Id                                  ...                                       \n",
              " 1       AllPub    Inside       Gtl  ...    0.220747     -0.359363 -0.116704   \n",
              " 2       AllPub       FR2       Gtl  ...   -0.702973     -0.359363 -0.116704   \n",
              " 3       AllPub    Inside       Gtl  ...   -0.066969     -0.359363 -0.116704   \n",
              " 4       AllPub    Corner       Gtl  ...   -0.172970      4.093291 -0.116704   \n",
              " 5       AllPub       FR2       Gtl  ...    0.569034     -0.359363 -0.116704   \n",
              " ...        ...       ...       ...  ...         ...           ...       ...   \n",
              " 1456    AllPub    Inside       Gtl  ...   -0.097255     -0.359363 -0.116704   \n",
              " 1457    AllPub    Inside       Gtl  ...   -0.702973     -0.359363 -0.116704   \n",
              " 1458    AllPub    Inside       Gtl  ...    0.205604     -0.359363 -0.116704   \n",
              " 1459    AllPub    Inside       Gtl  ...   -0.702973      1.474083 -0.116704   \n",
              " 1460    AllPub    Inside       Gtl  ...    0.326747     -0.359363 -0.116704   \n",
              " \n",
              "      ScreenPorch  PoolArea   MiscVal    MoSold    YrSold  SaleType  \\\n",
              " Id                                                                   \n",
              " 1      -0.271106 -0.068905 -0.087961 -1.600006  0.138985        WD   \n",
              " 2      -0.271106 -0.068905 -0.087961 -0.488657 -0.613506        WD   \n",
              " 3      -0.271106 -0.068905 -0.087961  0.993142  0.138985        WD   \n",
              " 4      -0.271106 -0.068905 -0.087961 -1.600006 -1.365998        WD   \n",
              " 5      -0.271106 -0.068905 -0.087961  2.104491  0.138985        WD   \n",
              " ...          ...       ...       ...       ...       ...       ...   \n",
              " 1456   -0.271106 -0.068905 -0.087961  0.622692 -0.613506        WD   \n",
              " 1457   -0.271106 -0.068905 -0.087961 -1.600006  1.643969        WD   \n",
              " 1458   -0.271106 -0.068905  4.937397 -0.488657  1.643969        WD   \n",
              " 1459   -0.271106 -0.068905 -0.087961 -0.859106  1.643969        WD   \n",
              " 1460   -0.271106 -0.068905 -0.087961 -0.118207  0.138985        WD   \n",
              " \n",
              "      SaleCondition  \n",
              " Id                  \n",
              " 1           Normal  \n",
              " 2           Normal  \n",
              " 3           Normal  \n",
              " 4          Abnorml  \n",
              " 5           Normal  \n",
              " ...            ...  \n",
              " 1456        Normal  \n",
              " 1457        Normal  \n",
              " 1458        Normal  \n",
              " 1459        Normal  \n",
              " 1460        Normal  \n",
              " \n",
              " [1451 rows x 73 columns],\n",
              " array([ 0.35159199,  0.01104749,  0.54078337, ...,  1.08313201,\n",
              "        -0.4855799 , -0.41778632]))"
            ]
          },
          "execution_count": 31,
          "metadata": {},
          "output_type": "execute_result"
        }
      ],
      "source": [
        "numerical_features = numerical_cols.copy()\n",
        "numerical_features.remove('SalePrice')\n",
        "X = MyStandardScaler(X , numerical_features)\n",
        "test_data = MyStandardScaler(test_data, numerical_features)\n",
        "std_sc.fit(y[['SalePrice']])\n",
        "y = std_sc.transform(y[['SalePrice']])\n",
        "y = y.reshape(-1)\n",
        "X,y"
      ]
    },
    {
      "cell_type": "markdown",
      "metadata": {
        "id": "JaPvMmZHCZtN"
      },
      "source": [
        "### Encoding the categorical data in numerical form using Label Encoder"
      ]
    },
    {
      "cell_type": "code",
      "execution_count": null,
      "metadata": {
        "cell_id": "37d482dfb45041709daaf36a14ced95a",
        "deepnote_app_coordinates": {
          "h": 5,
          "w": 12,
          "x": 0,
          "y": 0
        },
        "deepnote_cell_type": "code",
        "deepnote_to_be_reexecuted": false,
        "execution_millis": 12,
        "execution_start": 1699018606039,
        "id": "ZSY9UGv1gjeY",
        "source_hash": "524b47dd"
      },
      "outputs": [],
      "source": [
        "le = LabelEncoder()"
      ]
    },
    {
      "cell_type": "code",
      "execution_count": null,
      "metadata": {
        "cell_id": "39de1975c7854cd4abc3dc5421d22162",
        "deepnote_app_coordinates": {
          "h": 5,
          "w": 12,
          "x": 0,
          "y": 0
        },
        "deepnote_cell_type": "code",
        "deepnote_to_be_reexecuted": false,
        "execution_millis": 87,
        "execution_start": 1699018606039,
        "id": "8QQ0jAAkgjeZ",
        "source_hash": "574b4767"
      },
      "outputs": [],
      "source": [
        "for column in categorical_cols:\n",
        "    X[column]=le.fit_transform(X[column])\n",
        "    test_data[column]=le.fit_transform(test_data[column])"
      ]
    },
    {
      "cell_type": "code",
      "execution_count": null,
      "metadata": {
        "cell_id": "1a0f7a68593f47c3aa3cfb8295836191",
        "colab": {
          "base_uri": "https://localhost:8080/"
        },
        "deepnote_app_coordinates": {
          "h": 5,
          "w": 12,
          "x": 0,
          "y": 0
        },
        "deepnote_cell_type": "code",
        "deepnote_to_be_reexecuted": false,
        "execution_millis": 13,
        "execution_start": 1699018606171,
        "id": "eTquRz9jgjeZ",
        "outputId": "14e2a8ea-5556-4328-b369-9d75a0e49fbf",
        "source_hash": "6b8eaaaf"
      },
      "outputs": [
        {
          "data": {
            "text/plain": [
              "((1451, 73), (1432, 73))"
            ]
          },
          "execution_count": 34,
          "metadata": {},
          "output_type": "execute_result"
        }
      ],
      "source": [
        "X.shape , test_data.shape"
      ]
    },
    {
      "cell_type": "markdown",
      "metadata": {
        "id": "J7rvKK2YCgRp"
      },
      "source": [
        "### Splitting the data in training and testing sets"
      ]
    },
    {
      "cell_type": "code",
      "execution_count": null,
      "metadata": {
        "cell_id": "9dfd6b95158b44a698a2abb4d7b79af3",
        "deepnote_app_coordinates": {
          "h": 5,
          "w": 12,
          "x": 0,
          "y": 0
        },
        "deepnote_cell_type": "code",
        "deepnote_to_be_reexecuted": false,
        "execution_millis": 13,
        "execution_start": 1699018606172,
        "id": "MNPpDcCkgjeZ",
        "source_hash": "ebe4c61c"
      },
      "outputs": [],
      "source": [
        "X_train , X_test, y_train , y_test = train_test_split(X, y , test_size= 0.2, random_state=42)"
      ]
    },
    {
      "cell_type": "code",
      "execution_count": null,
      "metadata": {
        "cell_id": "784884eab6a34ec1bf1e4080d43bd007",
        "colab": {
          "base_uri": "https://localhost:8080/"
        },
        "deepnote_app_coordinates": {
          "h": 5,
          "w": 12,
          "x": 0,
          "y": 0
        },
        "deepnote_cell_type": "code",
        "deepnote_to_be_reexecuted": false,
        "execution_millis": 55,
        "execution_start": 1699018606173,
        "id": "jc3OByBtgjeZ",
        "outputId": "dd9949c8-7212-4545-a48b-48eae23adeff",
        "source_hash": "7d958dec"
      },
      "outputs": [
        {
          "name": "stdout",
          "output_type": "stream",
          "text": [
            "(1160, 73) (291, 73)\n",
            "(1160,) (291,)\n",
            "(1432, 73)\n"
          ]
        }
      ],
      "source": [
        "print(X_train.shape, X_test.shape)\n",
        "print(y_train.shape , y_test.shape)\n",
        "print(test_data.shape)"
      ]
    },
    {
      "cell_type": "markdown",
      "metadata": {
        "id": "M_YZ6bwBCmC7"
      },
      "source": [
        "## Model Training"
      ]
    },
    {
      "cell_type": "code",
      "execution_count": null,
      "metadata": {
        "id": "up6D5vF0m1mv",
        "outputId": "f5c50400-5976-4365-bdb3-784326c3b83b"
      },
      "outputs": [
        {
          "name": "stdout",
          "output_type": "stream",
          "text": [
            "Requirement already satisfied: xgboost in /usr/local/python/3.10.8/lib/python3.10/site-packages (2.0.1)\n",
            "Requirement already satisfied: numpy in /home/codespace/.local/lib/python3.10/site-packages (from xgboost) (1.26.1)\n",
            "Requirement already satisfied: scipy in /home/codespace/.local/lib/python3.10/site-packages (from xgboost) (1.11.3)\n",
            "\n",
            "\u001b[1m[\u001b[0m\u001b[34;49mnotice\u001b[0m\u001b[1;39;49m]\u001b[0m\u001b[39;49m A new release of pip is available: \u001b[0m\u001b[31;49m23.3\u001b[0m\u001b[39;49m -> \u001b[0m\u001b[32;49m23.3.1\u001b[0m\n",
            "\u001b[1m[\u001b[0m\u001b[34;49mnotice\u001b[0m\u001b[1;39;49m]\u001b[0m\u001b[39;49m To update, run: \u001b[0m\u001b[32;49mpython3 -m pip install --upgrade pip\u001b[0m\n",
            "Note: you may need to restart the kernel to use updated packages.\n"
          ]
        }
      ],
      "source": [
        "%pip install xgboost\n",
        "from sklearn.linear_model import LinearRegression\n",
        "from sklearn.tree import DecisionTreeRegressor\n",
        "from sklearn.ensemble import RandomForestRegressor, GradientBoostingRegressor\n",
        "from sklearn.svm import SVR\n",
        "from sklearn.neighbors import KNeighborsRegressor\n",
        "import xgboost as xgb"
      ]
    },
    {
      "cell_type": "code",
      "execution_count": null,
      "metadata": {
        "cell_id": "33adefa4872443d0a3a561dcfc0e7788",
        "deepnote_app_coordinates": {
          "h": 5,
          "w": 12,
          "x": 0,
          "y": 0
        },
        "deepnote_cell_type": "code",
        "deepnote_to_be_reexecuted": false,
        "execution_millis": 21,
        "execution_start": 1699018606218,
        "id": "k24I1mZBgjeZ",
        "source_hash": "43a5a04"
      },
      "outputs": [],
      "source": [
        "# Different models we will train\n",
        "rf = RandomForestRegressor()\n",
        "dt = DecisionTreeRegressor()\n",
        "gb = GradientBoostingRegressor()\n",
        "svr = SVR(C=100, gamma=1, kernel='linear')\n",
        "kn = KNeighborsRegressor()\n",
        "xg = xgb.XGBRegressor(random_state=42)"
      ]
    },
    {
      "cell_type": "code",
      "execution_count": null,
      "metadata": {
        "id": "R-67Wjfpn20a"
      },
      "outputs": [],
      "source": [
        "models = {\"Random Forest Regression\":rf, \"Decision Tree Regression\":dt, \"Gradient Boosting\":gb, \"Support Vector\":svr, \"K Neighbors\":kn, \"XG Boost\":xg}"
      ]
    },
    {
      "cell_type": "code",
      "execution_count": null,
      "metadata": {
        "id": "vw03vICWqbOO"
      },
      "outputs": [],
      "source": [
        "model_scores = []\n",
        "model_names = []\n",
        "model_maes = []\n",
        "model_r2scores = []"
      ]
    },
    {
      "cell_type": "code",
      "execution_count": null,
      "metadata": {
        "id": "F2QHrq8Ro_MM"
      },
      "outputs": [],
      "source": [
        "for name , model in models.items():\n",
        "    model.fit(X_train , y_train)\n",
        "    pred = model.predict(X_test)\n",
        "    model_names.append(name)\n",
        "    model_scores.append(model.score(X_test, y_test))\n",
        "    model_maes.append(mean_absolute_error(pred , y_test))\n",
        "    model_r2scores.append(r2_score(pred, y_test))"
      ]
    },
    {
      "cell_type": "code",
      "execution_count": null,
      "metadata": {
        "id": "2j6c3_J0rX7l"
      },
      "outputs": [],
      "source": [
        "result_data = {\n",
        "    'Model': model_names,\n",
        "    'Score': model_scores,\n",
        "    'MAE': model_maes,\n",
        "    'R2': model_r2scores\n",
        "    }"
      ]
    },
    {
      "cell_type": "code",
      "execution_count": null,
      "metadata": {
        "colab": {
          "base_uri": "https://localhost:8080/",
          "height": 238
        },
        "id": "VcCO3oghq_FK",
        "outputId": "0d16766b-e5d5-4cc0-b9c8-2dd9e419bd1a"
      },
      "outputs": [
        {
          "data": {
            "text/html": [
              "<div>\n",
              "<style scoped>\n",
              "    .dataframe tbody tr th:only-of-type {\n",
              "        vertical-align: middle;\n",
              "    }\n",
              "\n",
              "    .dataframe tbody tr th {\n",
              "        vertical-align: top;\n",
              "    }\n",
              "\n",
              "    .dataframe thead th {\n",
              "        text-align: right;\n",
              "    }\n",
              "</style>\n",
              "<table border=\"1\" class=\"dataframe\">\n",
              "  <thead>\n",
              "    <tr style=\"text-align: right;\">\n",
              "      <th></th>\n",
              "      <th>Model</th>\n",
              "      <th>Score</th>\n",
              "      <th>MAE</th>\n",
              "      <th>R2</th>\n",
              "    </tr>\n",
              "  </thead>\n",
              "  <tbody>\n",
              "    <tr>\n",
              "      <th>0</th>\n",
              "      <td>Random Forest Regression</td>\n",
              "      <td>0.919790</td>\n",
              "      <td>0.183297</td>\n",
              "      <td>0.908577</td>\n",
              "    </tr>\n",
              "    <tr>\n",
              "      <th>1</th>\n",
              "      <td>Decision Tree Regression</td>\n",
              "      <td>0.794634</td>\n",
              "      <td>0.301592</td>\n",
              "      <td>0.825848</td>\n",
              "    </tr>\n",
              "    <tr>\n",
              "      <th>2</th>\n",
              "      <td>Gradient Boosting</td>\n",
              "      <td>0.922521</td>\n",
              "      <td>0.179744</td>\n",
              "      <td>0.922404</td>\n",
              "    </tr>\n",
              "    <tr>\n",
              "      <th>3</th>\n",
              "      <td>Support Vector</td>\n",
              "      <td>0.888482</td>\n",
              "      <td>0.217317</td>\n",
              "      <td>0.864105</td>\n",
              "    </tr>\n",
              "    <tr>\n",
              "      <th>4</th>\n",
              "      <td>K Neighbors</td>\n",
              "      <td>0.822878</td>\n",
              "      <td>0.273645</td>\n",
              "      <td>0.711965</td>\n",
              "    </tr>\n",
              "    <tr>\n",
              "      <th>5</th>\n",
              "      <td>XG Boost</td>\n",
              "      <td>0.904147</td>\n",
              "      <td>0.204815</td>\n",
              "      <td>0.902202</td>\n",
              "    </tr>\n",
              "  </tbody>\n",
              "</table>\n",
              "</div>"
            ],
            "text/plain": [
              "                      Model     Score       MAE        R2\n",
              "0  Random Forest Regression  0.919790  0.183297  0.908577\n",
              "1  Decision Tree Regression  0.794634  0.301592  0.825848\n",
              "2         Gradient Boosting  0.922521  0.179744  0.922404\n",
              "3            Support Vector  0.888482  0.217317  0.864105\n",
              "4               K Neighbors  0.822878  0.273645  0.711965\n",
              "5                  XG Boost  0.904147  0.204815  0.902202"
            ]
          },
          "execution_count": 43,
          "metadata": {},
          "output_type": "execute_result"
        }
      ],
      "source": [
        "result_df = pd.DataFrame(result_data)\n",
        "result_df"
      ]
    },
    {
      "cell_type": "markdown",
      "metadata": {
        "id": "nRS_km4zCtQM"
      },
      "source": [
        "As we can see, the model which gave the best score is Gradient Boosting Regressor. So, we will use it to get the final predictions."
      ]
    },
    {
      "cell_type": "markdown",
      "metadata": {
        "id": "rDJ5zYT8C34T"
      },
      "source": [
        "### Doing K Fold Cross Validation to get the model's cross validation score"
      ]
    },
    {
      "cell_type": "code",
      "execution_count": null,
      "metadata": {
        "id": "dEh1DmpnxaJW"
      },
      "outputs": [],
      "source": [
        "from sklearn.model_selection import KFold\n",
        "from sklearn.metrics import mean_squared_error"
      ]
    },
    {
      "cell_type": "code",
      "execution_count": null,
      "metadata": {
        "id": "bLNg0XpCwF2Y"
      },
      "outputs": [],
      "source": [
        "kfold = KFold(n_splits=5, shuffle=True, random_state=42)\n",
        "model = gb"
      ]
    },
    {
      "cell_type": "code",
      "execution_count": null,
      "metadata": {
        "colab": {
          "base_uri": "https://localhost:8080/"
        },
        "id": "Q1rW6DFHyMZ5",
        "outputId": "26af8819-3b80-4c73-ab1d-07f77c8e57c7"
      },
      "outputs": [
        {
          "data": {
            "text/plain": [
              "((1451, 73), (1451,))"
            ]
          },
          "execution_count": 46,
          "metadata": {},
          "output_type": "execute_result"
        }
      ],
      "source": [
        "X.shape, y.shape"
      ]
    },
    {
      "cell_type": "code",
      "execution_count": null,
      "metadata": {
        "id": "TfybCfzKxeoI"
      },
      "outputs": [],
      "source": [
        "mae_scores = []\n",
        "mse_scores = []\n",
        "r2_scores = []\n",
        "for train_index, val_index in kfold.split(X):\n",
        "    X_train, X_val = X.iloc[train_index], X.iloc[val_index]\n",
        "    y_train, y_val = y[train_index], y[val_index]\n",
        "\n",
        "    model.fit(X_train, y_train)\n",
        "    y_pred = model.predict(X_val)\n",
        "    mae = mean_absolute_error(y_val, y_pred)\n",
        "    mae_scores.append(mae)\n",
        "    mse = mean_squared_error(y_val, y_pred)\n",
        "    mse_scores.append(mse)\n",
        "    r2 = r2_score(y_val, y_pred)\n",
        "    r2_scores.append(r2)"
      ]
    },
    {
      "cell_type": "code",
      "execution_count": null,
      "metadata": {
        "id": "JwHhdYkfx2lI"
      },
      "outputs": [],
      "source": [
        "average_mae = np.mean(mae_scores)\n",
        "average_mse = np.mean(mse_scores)\n",
        "average_r2 = np.mean(r2_scores)"
      ]
    },
    {
      "cell_type": "code",
      "execution_count": null,
      "metadata": {
        "colab": {
          "base_uri": "https://localhost:8080/"
        },
        "id": "I5Wdr5vUzVQF",
        "outputId": "be386564-9e72-43eb-93b2-ee2e3a84092b"
      },
      "outputs": [
        {
          "data": {
            "text/plain": [
              "(0.20516477211751782, 0.1512121640905344, 0.8459090569643098)"
            ]
          },
          "execution_count": 49,
          "metadata": {},
          "output_type": "execute_result"
        }
      ],
      "source": [
        "average_mae, average_mse, average_r2"
      ]
    },
    {
      "cell_type": "markdown",
      "metadata": {
        "id": "PimkyyxiDC0H"
      },
      "source": [
        "### Using the model to find Predictions"
      ]
    },
    {
      "cell_type": "code",
      "execution_count": null,
      "metadata": {
        "colab": {
          "base_uri": "https://localhost:8080/"
        },
        "id": "5hxfnMx1zWMd",
        "outputId": "543ed450-b329-4731-e1dc-3ddc4ecb250b"
      },
      "outputs": [
        {
          "data": {
            "text/plain": [
              "array([[347339.72994692],\n",
              "       [153032.33997374],\n",
              "       [131600.57467638],\n",
              "       [202504.09888003],\n",
              "       [249490.27544341],\n",
              "       [181460.49833174],\n",
              "       [194954.94245906],\n",
              "       [137022.41436634],\n",
              "       [158835.7681064 ],\n",
              "       [112861.54009248],\n",
              "       [347112.589502  ],\n",
              "       [120420.57577316],\n",
              "       [225518.37908484],\n",
              "       [143377.21494506],\n",
              "       [185207.63533684],\n",
              "       [197612.70306227],\n",
              "       [206212.83894975],\n",
              "       [211474.03007082],\n",
              "       [186558.67528476],\n",
              "       [335954.57559282],\n",
              "       [160754.60793109],\n",
              "       [307308.00585811],\n",
              "       [137556.21436319],\n",
              "       [351982.98275238],\n",
              "       [ 81593.93720565],\n",
              "       [236439.11075265],\n",
              "       [180438.10440092],\n",
              "       [177525.23718392],\n",
              "       [165749.33927508],\n",
              "       [122094.233878  ],\n",
              "       [133601.87992331],\n",
              "       [209823.66496116],\n",
              "       [269301.31484227],\n",
              "       [202887.51636068],\n",
              "       [ 89202.29462518],\n",
              "       [141055.41372577],\n",
              "       [125829.12156911],\n",
              "       [134028.71653505],\n",
              "       [153579.12214326],\n",
              "       [217513.35790758],\n",
              "       [106544.66041772],\n",
              "       [180502.06165837],\n",
              "       [163527.33094293],\n",
              "       [162160.95875425],\n",
              "       [146317.97097163],\n",
              "       [132785.20670268],\n",
              "       [191554.15403551],\n",
              "       [193818.23208405],\n",
              "       [160527.4502799 ],\n",
              "       [127114.08462063],\n",
              "       [309879.75067785],\n",
              "       [111944.99235931],\n",
              "       [117900.80835826],\n",
              "       [257033.19509238],\n",
              "       [384148.12511508],\n",
              "       [ 73590.33398334],\n",
              "       [126961.14742446],\n",
              "       [169054.39489081],\n",
              "       [252163.69039076],\n",
              "       [138453.30608558],\n",
              "       [274586.74927229],\n",
              "       [274201.07220084],\n",
              "       [122815.87550635],\n",
              "       [118648.2895755 ],\n",
              "       [135041.95512756],\n",
              "       [ 97463.50007511],\n",
              "       [205104.48387874],\n",
              "       [100772.12949171],\n",
              "       [175871.73645901],\n",
              "       [129095.55699771],\n",
              "       [155728.87840278],\n",
              "       [171926.7617696 ],\n",
              "       [412163.02086727],\n",
              "       [155268.06454672],\n",
              "       [153000.89929228],\n",
              "       [312228.80831945],\n",
              "       [136855.87064299],\n",
              "       [126017.89821727],\n",
              "       [150999.08939753],\n",
              "       [210804.18737509],\n",
              "       [220783.68717362],\n",
              "       [130876.98090635],\n",
              "       [187766.16928498],\n",
              "       [229076.97494898],\n",
              "       [168062.25546334],\n",
              "       [120850.44323479],\n",
              "       [ 88044.5971504 ],\n",
              "       [117332.54641238],\n",
              "       [182124.12792998],\n",
              "       [176280.58010868],\n",
              "       [155839.88991923],\n",
              "       [151226.93052495],\n",
              "       [120903.84895661],\n",
              "       [249339.36662233],\n",
              "       [119336.20554836],\n",
              "       [196416.33829524],\n",
              "       [195544.57866816],\n",
              "       [150257.01694597],\n",
              "       [120383.54545812],\n",
              "       [352713.76132459],\n",
              "       [263374.56227014],\n",
              "       [146994.18636181],\n",
              "       [159611.21219758],\n",
              "       [146033.45300422],\n",
              "       [ 92473.70711429],\n",
              "       [130910.66028339],\n",
              "       [142033.38148151],\n",
              "       [125582.61480292],\n",
              "       [ 84895.2425961 ],\n",
              "       [ 91896.03431106],\n",
              "       [169790.60085251],\n",
              "       [108899.63326695],\n",
              "       [143277.28994298],\n",
              "       [129134.54300118],\n",
              "       [155174.13319795],\n",
              "       [222881.3056735 ],\n",
              "       [159164.66664711],\n",
              "       [153138.5478999 ],\n",
              "       [113907.03711215],\n",
              "       [134284.22794948],\n",
              "       [208646.46149334],\n",
              "       [321364.72971167],\n",
              "       [ 94294.85712237],\n",
              "       [318291.66625211],\n",
              "       [ 84333.64625622],\n",
              "       [157584.68646631],\n",
              "       [185257.68040161],\n",
              "       [131781.49272309],\n",
              "       [184625.43222068],\n",
              "       [247513.04402204],\n",
              "       [198709.10695342],\n",
              "       [167845.09760449],\n",
              "       [322933.61508036],\n",
              "       [135618.1206332 ],\n",
              "       [128952.42687123],\n",
              "       [161936.45296994],\n",
              "       [ 78994.83186307],\n",
              "       [135499.02333015],\n",
              "       [232853.7857836 ],\n",
              "       [165456.81240229],\n",
              "       [214967.46851141],\n",
              "       [121977.57248461],\n",
              "       [259194.96618723],\n",
              "       [304027.60757741],\n",
              "       [219389.80442428],\n",
              "       [179168.15907034],\n",
              "       [141700.42622919],\n",
              "       [130818.68699296],\n",
              "       [149383.08270067],\n",
              "       [144541.64385804],\n",
              "       [142495.10556962],\n",
              "       [123231.96017057],\n",
              "       [136595.65438714],\n",
              "       [212041.06597869],\n",
              "       [138948.30823356],\n",
              "       [222256.79347084],\n",
              "       [209008.10442161],\n",
              "       [110297.5794902 ],\n",
              "       [280605.8559881 ],\n",
              "       [161611.13018113],\n",
              "       [338618.51848297],\n",
              "       [155725.30133987],\n",
              "       [131611.19466508],\n",
              "       [139212.55311231],\n",
              "       [117928.19487004],\n",
              "       [132506.82004118],\n",
              "       [103308.44583473],\n",
              "       [ 94611.52312193],\n",
              "       [619912.55437019],\n",
              "       [131804.4120414 ],\n",
              "       [ 96647.25977389],\n",
              "       [140658.64835866],\n",
              "       [261747.48736718],\n",
              "       [261745.58618982],\n",
              "       [364694.60133624],\n",
              "       [176729.7920833 ],\n",
              "       [208016.44324861],\n",
              "       [276832.3351837 ],\n",
              "       [176023.03416437],\n",
              "       [120254.64207544],\n",
              "       [148540.06111176],\n",
              "       [187353.61597278],\n",
              "       [ 84838.60843772],\n",
              "       [214430.36949363],\n",
              "       [254638.11879831],\n",
              "       [248450.40084828],\n",
              "       [141501.45531302],\n",
              "       [128840.01443511],\n",
              "       [165884.91656504],\n",
              "       [130196.08072899],\n",
              "       [187329.89928772],\n",
              "       [229441.65436519],\n",
              "       [ 56802.9421293 ],\n",
              "       [196117.9582776 ],\n",
              "       [126098.62580166],\n",
              "       [148409.03596044],\n",
              "       [105830.45940723],\n",
              "       [113969.7747877 ],\n",
              "       [206732.89702004],\n",
              "       [134014.33674056],\n",
              "       [117265.72752713],\n",
              "       [146591.92473404],\n",
              "       [210228.72767537],\n",
              "       [ 95497.13972653],\n",
              "       [147759.82906911],\n",
              "       [231538.41995493],\n",
              "       [149026.73641011],\n",
              "       [122388.37057778],\n",
              "       [208336.61097687],\n",
              "       [151856.3544054 ],\n",
              "       [223779.74908301],\n",
              "       [117043.13432204],\n",
              "       [149906.3272613 ],\n",
              "       [124624.40461476],\n",
              "       [243083.05212493],\n",
              "       [216184.38314141],\n",
              "       [150869.21233726],\n",
              "       [139296.45600012],\n",
              "       [232826.35376628],\n",
              "       [208207.67798398],\n",
              "       [152476.33224746],\n",
              "       [161012.99538138],\n",
              "       [181415.16480169],\n",
              "       [127540.10983056],\n",
              "       [ 94966.98473616],\n",
              "       [277211.76721688],\n",
              "       [278470.52183787],\n",
              "       [306304.38717723],\n",
              "       [150758.2126825 ],\n",
              "       [120667.89852895],\n",
              "       [174910.63794907],\n",
              "       [133177.75230065],\n",
              "       [212318.54972133],\n",
              "       [237429.54951988],\n",
              "       [137544.02256713],\n",
              "       [138132.09640373],\n",
              "       [159466.23448403],\n",
              "       [266799.45135458],\n",
              "       [425614.13052338],\n",
              "       [156619.45644227],\n",
              "       [374192.47524548],\n",
              "       [197948.58245306],\n",
              "       [312339.22580832],\n",
              "       [140098.09918806],\n",
              "       [106326.26874574],\n",
              "       [139232.22728344],\n",
              "       [130058.93965221],\n",
              "       [157102.16907397],\n",
              "       [306157.73447141],\n",
              "       [172632.72048663],\n",
              "       [301760.34312696],\n",
              "       [173765.26295537],\n",
              "       [209917.19041438],\n",
              "       [298372.62838808],\n",
              "       [185116.56189221],\n",
              "       [119011.42977343],\n",
              "       [213809.72652003],\n",
              "       [151120.74921715],\n",
              "       [163234.51372094],\n",
              "       [128552.29784756],\n",
              "       [130813.73496523],\n",
              "       [277967.11121282],\n",
              "       [196125.86160856],\n",
              "       [166155.2314224 ],\n",
              "       [139648.45653322],\n",
              "       [106508.41693743],\n",
              "       [175711.32416195],\n",
              "       [238618.77642028],\n",
              "       [192536.78603583],\n",
              "       [281656.02930227],\n",
              "       [223351.08572943],\n",
              "       [240327.78423161],\n",
              "       [ 69014.96710161],\n",
              "       [146764.29269386],\n",
              "       [136135.21726092],\n",
              "       [165967.53896152],\n",
              "       [130677.50144652],\n",
              "       [182445.49164126],\n",
              "       [ 93278.48418906],\n",
              "       [123110.77995727],\n",
              "       [243036.61731281],\n",
              "       [146077.05782015],\n",
              "       [279649.30381302],\n",
              "       [199752.82936135],\n",
              "       [104107.85403625],\n",
              "       [116514.81142298],\n",
              "       [144450.54853064],\n",
              "       [171407.2554365 ],\n",
              "       [157906.51594394],\n",
              "       [224333.13716507],\n",
              "       [310689.60884794]])"
            ]
          },
          "execution_count": 50,
          "metadata": {},
          "output_type": "execute_result"
        }
      ],
      "source": [
        "predictions = model.predict(X_test)\n",
        "predictions = std_sc.inverse_transform(predictions.reshape(-1,1)) # We have to undo the scaling we did to obtain the actual house prices that we have predicted.\n",
        "predictions"
      ]
    },
    {
      "cell_type": "markdown",
      "metadata": {
        "id": "1GL-3LrkDeGj"
      },
      "source": [
        "### End of the code"
      ]
    }
  ],
  "metadata": {
    "accelerator": "TPU",
    "colab": {
      "provenance": []
    },
    "deepnote": {},
    "deepnote_app_clear_outputs": false,
    "deepnote_app_hide_all_code_blocks_enabled": false,
    "deepnote_app_layout": "powerful-article",
    "deepnote_app_table_of_contents_enabled": false,
    "deepnote_app_width": "full-width",
    "deepnote_execution_queue": [],
    "deepnote_notebook_id": "87e69c5a2567411582598ac242338bd9",
    "kernelspec": {
      "display_name": "Python 3 (ipykernel)",
      "language": "python",
      "name": "python3"
    },
    "language_info": {
      "codemirror_mode": {
        "name": "ipython",
        "version": 3
      },
      "file_extension": ".py",
      "mimetype": "text/x-python",
      "name": "python",
      "nbconvert_exporter": "python",
      "pygments_lexer": "ipython3",
      "version": "3.10.8"
    }
  },
  "nbformat": 4,
  "nbformat_minor": 0
}